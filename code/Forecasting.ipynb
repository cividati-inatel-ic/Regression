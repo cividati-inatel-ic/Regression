{
 "cells": [
  {
   "cell_type": "markdown",
   "metadata": {},
   "source": [
    "Tudo da vida segue uma distribuição gaussiana.\n",
    "-V.C.A Marcelo"
   ]
  },
  {
   "cell_type": "markdown",
   "metadata": {},
   "source": [
    "## Loading data"
   ]
  },
  {
   "cell_type": "code",
   "execution_count": null,
   "metadata": {
    "scrolled": true
   },
   "outputs": [],
   "source": [
    "import pandas as pd\n",
    "import numpy as np\n",
    "\n",
    "df_gold = pd.read_csv('../data/d_kilo_gold_price_in_currency.csv')\n",
    "df_gold['date'] = pd.to_datetime(df_gold['date'], infer_datetime_format=True)\n",
    "\n",
    "data_x = np.array(df_gold['date'])\n",
    "data_y = np.array(df_gold['China'])"
   ]
  },
  {
   "cell_type": "markdown",
   "metadata": {},
   "source": [
    "## Forecasting with sktime\n",
    "\n",
    "[source](https://www.sktime.org/en/latest/index.html)\n",
    "[example1](https://towardsdatascience.com/sktime-a-unified-python-library-for-time-series-machine-learning-3c103c139a55)\n",
    "[example2](https://github.com/alan-turing-institute/sktime/blob/master/examples/01_forecasting.ipynb)"
   ]
  },
  {
   "cell_type": "code",
   "execution_count": null,
   "metadata": {},
   "outputs": [],
   "source": [
    "from sktime.performance_metrics.forecasting import *\n",
    "\n",
    "# https://github.com/alan-turing-institute/sktime/blob/master/sktime/performance_metrics/forecasting/_functions.py\n",
    "def print_metrics(title, y_pred, y_test, y_train):\n",
    "    print(f'metrics for [{title}]:')\n",
    "    print('    mase_loss', mase_loss(y_pred, y_test, y_train))\n",
    "    print('    mape_loss', mape_loss(y_pred, y_test))\n",
    "    print('    smape_loss', smape_loss(y_pred, y_test))"
   ]
  },
  {
   "cell_type": "code",
   "execution_count": null,
   "metadata": {},
   "outputs": [],
   "source": [
    "from sktime.forecasting.all import *\n",
    "from sktime.forecasting.arima import ARIMA, AutoARIMA\n",
    "from sktime.forecasting.exp_smoothing import ExponentialSmoothing\n",
    "from sktime.forecasting.naive import NaiveForecaster\n",
    "from sktime.forecasting.theta import ThetaForecaster\n",
    "from sktime.forecasting.trend import PolynomialTrendForecaster\n",
    "from sktime.forecasting.fbprophet import Prophet\n",
    "\n",
    "# preparing data\n",
    "y = pd.Series(data_y, index=data_x)\n",
    "y.index.freq = 'd' \n",
    "plot_series(y)\n",
    "\n",
    "# defining the forecasting horizon\n",
    "y_train, y_test = temporal_train_test_split(y, test_size=30)\n",
    "fh = ForecastingHorizon(y_test.index, is_relative=False)\n",
    "\n",
    "# naive forecaster\n",
    "# https://www.sktime.org/en/latest/api_reference/modules/auto_generated/sktime.forecasting.naive.NaiveForecaster.html\n",
    "forecaster = NaiveForecaster(strategy=\"drift\")\n",
    "forecaster.fit(y_train)\n",
    "y_pred_naive = forecaster.predict(fh)\n",
    "print_metrics('naive', y_pred_naive, y_test, y_train)\n",
    "\n",
    "# arima forecaster\n",
    "# https://www.sktime.org/en/latest/api_reference/modules/auto_generated/sktime.forecasting.arima.ARIMA.html\n",
    "forecaster = ARIMA()\n",
    "forecaster.fit(y_train)\n",
    "y_pred_arima = forecaster.predict(fh)\n",
    "print_metrics('arima', y_pred_arima, y_test, y_train)\n",
    "\n",
    "# auto arima forecaster\n",
    "# https://www.sktime.org/en/latest/api_reference/modules/auto_generated/sktime.forecasting.arima.AutoARIMA.html\n",
    "forecaster = AutoARIMA()\n",
    "forecaster.fit(y_train)\n",
    "y_pred_auto = forecaster.predict(fh)\n",
    "print_metrics('auto', y_pred_auto, y_test, y_train)\n",
    "\n",
    "# exponential smoothing forecaster\n",
    "# https://www.sktime.org/en/latest/api_reference/modules/auto_generated/sktime.forecasting.exp_smoothing.ExponentialSmoothing.html\n",
    "forecaster = ExponentialSmoothing()\n",
    "forecaster.fit(y_train)\n",
    "y_pred_expo = forecaster.predict(fh)\n",
    "print_metrics('expo', y_pred_expo, y_test, y_train)\n",
    "\n",
    "# theta forecaster\n",
    "# https://www.sktime.org/en/v0.4.2/modules/auto_generated/sktime.forecasting.theta.ThetaForecaster.html\n",
    "forecaster = ThetaForecaster()\n",
    "forecaster.fit(y_train)\n",
    "y_pred_theta = forecaster.predict(fh)\n",
    "print_metrics('theta', y_pred_theta, y_test, y_train)\n",
    "\n",
    "# polynomial trend forecaster\n",
    "# https://www.sktime.org/en/v0.4.2/modules/auto_generated/sktime.forecasting.trend.PolynomialTrendForecaster.html\n",
    "forecaster = PolynomialTrendForecaster()\n",
    "forecaster.fit(y_train)\n",
    "y_pred_poly = forecaster.predict(fh)\n",
    "print_metrics('poly', y_pred_poly, y_test, y_train)\n",
    "\n",
    "# prophet forecaster\n",
    "# https://www.sktime.org/en/latest/api_reference/modules/auto_generated/sktime.forecasting.fbprophet.Prophet.html\n",
    "forecaster = Prophet()\n",
    "forecaster.fit(y_train)\n",
    "y_pred_prophet = forecaster.predict(fh)\n",
    "print_metrics('prophet', y_pred_prophet, y_test, y_train)\n",
    "\n",
    "# plot all results\n",
    "plot_series(y_train, y_test, y_pred_naive, y_pred_arima, y_pred_auto, y_pred_expo, y_pred_theta, y_pred_poly, y_pred_prophet, \n",
    "            labels=[\"y_train\", \"y_test\", \"y_pred_naive\", \"y_pred_arima\", \"y_pred_auto\", \"y_pred_expo\", \"y_pred_theta\", \"y_pred_poly\", \"y_pred_prophet\"])"
   ]
  },
  {
   "cell_type": "code",
   "execution_count": null,
   "metadata": {},
   "outputs": [],
   "source": []
  }
 ],
 "metadata": {
  "kernelspec": {
   "display_name": "Python 3",
   "language": "python",
   "name": "python3"
  },
  "language_info": {
   "codemirror_mode": {
    "name": "ipython",
    "version": 3
   },
   "file_extension": ".py",
   "mimetype": "text/x-python",
   "name": "python",
   "nbconvert_exporter": "python",
   "pygments_lexer": "ipython3",
   "version": "3.7.6"
  }
 },
 "nbformat": 4,
 "nbformat_minor": 4
}
