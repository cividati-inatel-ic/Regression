{
 "cells": [
  {
   "cell_type": "markdown",
   "metadata": {},
   "source": [
    "Tudo da vida segue uma distribuição gaussiana.\n",
    "-V.C.A Marcelo"
   ]
  },
  {
   "cell_type": "markdown",
   "metadata": {},
   "source": [
    "## Loading data"
   ]
  },
  {
   "cell_type": "code",
   "execution_count": 1,
   "metadata": {
    "scrolled": true
   },
   "outputs": [],
   "source": [
    "import pandas as pd\n",
    "import numpy as np\n",
    "\n",
    "df_gold = pd.read_csv('../data/d_kilo_gold_price_in_currency.csv')\n",
    "df_gold['date'] = pd.to_datetime(df_gold['date'], infer_datetime_format=True)\n",
    "\n",
    "data_x = np.array(df_gold['date'])\n",
    "data_y = np.array(df_gold['America'])\n",
    "\n",
    "data_table = pd.DataFrame()"
   ]
  },
  {
   "cell_type": "markdown",
   "metadata": {},
   "source": [
    "## Forecasting with sktime\n",
    "\n",
    "[source](https://www.sktime.org/en/latest/index.html)\n",
    "[example1](https://towardsdatascience.com/sktime-a-unified-python-library-for-time-series-machine-learning-3c103c139a55)\n",
    "[example2](https://github.com/alan-turing-institute/sktime/blob/master/examples/01_forecasting.ipynb)"
   ]
  },
  {
   "cell_type": "code",
   "execution_count": 2,
   "metadata": {},
   "outputs": [],
   "source": [
    "import numpy as np\n",
    "from math import sqrt\n",
    "from sktime.performance_metrics.forecasting import *\n",
    "from sklearn.metrics import mean_squared_error as MSE\n",
    "from sklearn.metrics import mean_absolute_error as MAE\n",
    "from sklearn.utils import check_array\n",
    "\n",
    "import pandas as pd\n",
    "\n",
    "def RMSE(y_test, y_pred):\n",
    "    return MSE(y_test, y_pred, squared=False)\n",
    "\n",
    "# https://github.com/alan-turing-institute/sktime/blob/master/sktime/performance_metrics/forecasting/_functions.py\n",
    "def print_metrics(title, y_pred, y_test, y_train):\n",
    "    print(f'metrics for [{title}]:')\n",
    "    # https://otexts.com/fpp2/accuracy.html#scale-dependent-errors\n",
    "    print('    MAE', MAE(y_pred, y_test))\n",
    "    print('    RMSE', RMSE(y_pred, y_test))\n",
    "    # https://otexts.com/fpp2/accuracy.html#percentage-errors\n",
    "    print('    MAPE', mape_loss(y_pred, y_test))\n",
    "    print('    sMAPE', smape_loss(y_pred, y_test))\n",
    "    # https://otexts.com/fpp2/accuracy.html#scaled-errors\n",
    "    print('    MASE', mase_loss(y_pred, y_test, y_train))\n",
    "    \n",
    "    d = {'Modelo':[title],\n",
    "         'MAE':[MAE(y_pred, y_test)],\n",
    "         'RMSE':[RMSE(y_pred, y_test)],\n",
    "         'MAPE':[mape_loss(y_pred, y_test)],\n",
    "         'SMAPE':[smape_loss(y_pred, y_test)],\n",
    "         'MASE':[mase_loss(y_pred, y_test, y_train)]        \n",
    "    }\n",
    "    df = pd.DataFrame(data=d)                   \n",
    "    \n",
    "    return df"
   ]
  },
  {
   "cell_type": "code",
   "execution_count": 3,
   "metadata": {},
   "outputs": [
    {
     "name": "stderr",
     "output_type": "stream",
     "text": [
      "Importing plotly failed. Interactive plots will not work.\n"
     ]
    },
    {
     "data": {
      "image/png": "[encoded data removed]",
      "text/plain": [
       "<Figure size 1152x288 with 1 Axes>"
      ]
     },
     "metadata": {
      "needs_background": "light"
     },
     "output_type": "display_data"
    }
   ],
   "source": [
    "from sktime.forecasting.all import *\n",
    "from sktime.forecasting.arima import ARIMA, AutoARIMA\n",
    "from sktime.forecasting.exp_smoothing import ExponentialSmoothing\n",
    "from sktime.forecasting.naive import NaiveForecaster\n",
    "from sktime.forecasting.theta import ThetaForecaster\n",
    "from sktime.forecasting.trend import PolynomialTrendForecaster\n",
    "from sktime.forecasting.fbprophet import Prophet\n",
    "\n",
    "# preparing data\n",
    "y = pd.Series(data_y, index=data_x)\n",
    "y.index.freq = 'd'\n",
    "plot_series(y)\n",
    "\n",
    "# defining the forecasting horizon\n",
    "days_to_predict = 30\n",
    "y_train, y_test = temporal_train_test_split(y, test_size=days_to_predict)\n",
    "fh = ForecastingHorizon(y_test.index, is_relative=False)"
   ]
  },
  {
   "cell_type": "code",
   "execution_count": 4,
   "metadata": {},
   "outputs": [
    {
     "name": "stdout",
     "output_type": "stream",
     "text": [
      "metrics for [naive_last]:\n",
      "    MAE 0.08726891286390422\n",
      "    RMSE 0.09385387807404987\n",
      "    MAPE 0.08944090298902914\n",
      "    sMAPE 0.09434748135777878\n",
      "    MASE 13.403727889061507\n"
     ]
    }
   ],
   "source": [
    "# naive forecaster (last)\n",
    "# https://www.sktime.org/en/latest/api_reference/modules/auto_generated/sktime.forecasting.naive.NaiveForecaster.html\n",
    "forecaster = NaiveForecaster(strategy=\"last\")\n",
    "forecaster.fit(y_train)\n",
    "y_pred_naive_last = forecaster.predict(fh)\n",
    "data_table = data_table.append(print_metrics('naive_last', y_pred_naive_last, y_test, y_train))"
   ]
  },
  {
   "cell_type": "code",
   "execution_count": 5,
   "metadata": {},
   "outputs": [
    {
     "name": "stdout",
     "output_type": "stream",
     "text": [
      "metrics for [naive_mean]:\n",
      "    MAE 0.2867866701800995\n",
      "    RMSE 0.28885858386082297\n",
      "    MAPE 0.4766587607657177\n",
      "    sMAPE 0.38405161025215706\n",
      "    MASE 44.047878713681406\n"
     ]
    }
   ],
   "source": [
    "# naive forecaster (mean)\n",
    "# https://www.sktime.org/en/latest/api_reference/modules/auto_generated/sktime.forecasting.naive.NaiveForecaster.html\n",
    "forecaster = NaiveForecaster(strategy=\"mean\")\n",
    "forecaster.fit(y_train)\n",
    "y_pred_naive_mean = forecaster.predict(fh)\n",
    "data_table = data_table.append(print_metrics('naive_mean', y_pred_naive_mean, y_test, y_train))"
   ]
  },
  {
   "cell_type": "code",
   "execution_count": 6,
   "metadata": {},
   "outputs": [
    {
     "name": "stdout",
     "output_type": "stream",
     "text": [
      "metrics for [naive_drift]:\n",
      "    MAE 0.10533622063924182\n",
      "    RMSE 0.11130543857321411\n",
      "    MAPE 0.10590132440623228\n",
      "    sMAPE 0.11258832500165901\n",
      "    MASE 16.178705474564527\n"
     ]
    }
   ],
   "source": [
    "# naive forecaster (drift)\n",
    "# https://www.sktime.org/en/latest/api_reference/modules/auto_generated/sktime.forecasting.naive.NaiveForecaster.html\n",
    "forecaster = NaiveForecaster(strategy=\"drift\")\n",
    "forecaster.fit(y_train)\n",
    "y_pred_naive_drift = forecaster.predict(fh)\n",
    "data_table = data_table.append(print_metrics('naive_drift', y_pred_naive_drift, y_test, y_train))"
   ]
  },
  {
   "cell_type": "code",
   "execution_count": 7,
   "metadata": {},
   "outputs": [
    {
     "name": "stderr",
     "output_type": "stream",
     "text": [
      "C:\\Users\\RubensCividatiTeles\\.conda\\envs\\python37\\lib\\site-packages\\statsmodels\\tsa\\statespace\\sarimax.py:966: UserWarning: Non-stationary starting autoregressive parameters found. Using zeros as starting parameters.\n",
      "  warn('Non-stationary starting autoregressive parameters'\n"
     ]
    },
    {
     "name": "stdout",
     "output_type": "stream",
     "text": [
      "metrics for [arima]:\n",
      "    MAE 0.07899785252776027\n",
      "    RMSE 0.08633035145967788\n",
      "    MAPE 0.08163587627520617\n",
      "    sMAPE 0.08584212005697972\n",
      "    MASE 12.133366674953411\n"
     ]
    }
   ],
   "source": [
    "# arima forecaster\n",
    "# https://www.sktime.org/en/latest/api_reference/modules/auto_generated/sktime.forecasting.arima.ARIMA.html\n",
    "custom_method = { 1 : 'bfgs', 7 : 'bfgs', 30 : 'powell' }\n",
    "forecaster = ARIMA(method=custom_method[days_to_predict])\n",
    "forecaster.fit(y_train)\n",
    "y_pred_arima = forecaster.predict(fh)\n",
    "data_table = data_table.append(print_metrics('arima', y_pred_arima, y_test, y_train))"
   ]
  },
  {
   "cell_type": "code",
   "execution_count": 8,
   "metadata": {
    "scrolled": true
   },
   "outputs": [
    {
     "name": "stderr",
     "output_type": "stream",
     "text": [
      "C:\\Users\\RubensCividatiTeles\\.conda\\envs\\python37\\lib\\site-packages\\statsmodels\\tsa\\statespace\\sarimax.py:966: UserWarning: Non-stationary starting autoregressive parameters found. Using zeros as starting parameters.\n",
      "  warn('Non-stationary starting autoregressive parameters'\n",
      "C:\\Users\\RubensCividatiTeles\\.conda\\envs\\python37\\lib\\site-packages\\statsmodels\\tsa\\statespace\\sarimax.py:978: UserWarning: Non-invertible starting MA parameters found. Using zeros as starting parameters.\n",
      "  warn('Non-invertible starting MA parameters found.'\n",
      "C:\\Users\\RubensCividatiTeles\\.conda\\envs\\python37\\lib\\site-packages\\statsmodels\\base\\model.py:568: ConvergenceWarning: Maximum Likelihood optimization failed to converge. Check mle_retvals\n",
      "  ConvergenceWarning)\n",
      "C:\\Users\\RubensCividatiTeles\\.conda\\envs\\python37\\lib\\site-packages\\statsmodels\\base\\model.py:568: ConvergenceWarning: Maximum Likelihood optimization failed to converge. Check mle_retvals\n",
      "  ConvergenceWarning)\n",
      "C:\\Users\\RubensCividatiTeles\\.conda\\envs\\python37\\lib\\site-packages\\statsmodels\\base\\model.py:568: ConvergenceWarning: Maximum Likelihood optimization failed to converge. Check mle_retvals\n",
      "  ConvergenceWarning)\n",
      "C:\\Users\\RubensCividatiTeles\\.conda\\envs\\python37\\lib\\site-packages\\statsmodels\\base\\model.py:568: ConvergenceWarning: Maximum Likelihood optimization failed to converge. Check mle_retvals\n",
      "  ConvergenceWarning)\n",
      "C:\\Users\\RubensCividatiTeles\\.conda\\envs\\python37\\lib\\site-packages\\statsmodels\\base\\model.py:568: ConvergenceWarning: Maximum Likelihood optimization failed to converge. Check mle_retvals\n",
      "  ConvergenceWarning)\n",
      "C:\\Users\\RubensCividatiTeles\\.conda\\envs\\python37\\lib\\site-packages\\statsmodels\\base\\model.py:568: ConvergenceWarning: Maximum Likelihood optimization failed to converge. Check mle_retvals\n",
      "  ConvergenceWarning)\n",
      "C:\\Users\\RubensCividatiTeles\\.conda\\envs\\python37\\lib\\site-packages\\statsmodels\\base\\model.py:568: ConvergenceWarning: Maximum Likelihood optimization failed to converge. Check mle_retvals\n",
      "  ConvergenceWarning)\n",
      "C:\\Users\\RubensCividatiTeles\\.conda\\envs\\python37\\lib\\site-packages\\statsmodels\\base\\model.py:568: ConvergenceWarning: Maximum Likelihood optimization failed to converge. Check mle_retvals\n",
      "  ConvergenceWarning)\n",
      "C:\\Users\\RubensCividatiTeles\\.conda\\envs\\python37\\lib\\site-packages\\statsmodels\\base\\model.py:568: ConvergenceWarning: Maximum Likelihood optimization failed to converge. Check mle_retvals\n",
      "  ConvergenceWarning)\n",
      "C:\\Users\\RubensCividatiTeles\\.conda\\envs\\python37\\lib\\site-packages\\statsmodels\\base\\model.py:568: ConvergenceWarning: Maximum Likelihood optimization failed to converge. Check mle_retvals\n",
      "  ConvergenceWarning)\n",
      "C:\\Users\\RubensCividatiTeles\\.conda\\envs\\python37\\lib\\site-packages\\statsmodels\\base\\model.py:568: ConvergenceWarning: Maximum Likelihood optimization failed to converge. Check mle_retvals\n",
      "  ConvergenceWarning)\n",
      "C:\\Users\\RubensCividatiTeles\\.conda\\envs\\python37\\lib\\site-packages\\statsmodels\\tsa\\statespace\\sarimax.py:966: UserWarning: Non-stationary starting autoregressive parameters found. Using zeros as starting parameters.\n",
      "  warn('Non-stationary starting autoregressive parameters'\n",
      "C:\\Users\\RubensCividatiTeles\\.conda\\envs\\python37\\lib\\site-packages\\statsmodels\\tsa\\statespace\\sarimax.py:978: UserWarning: Non-invertible starting MA parameters found. Using zeros as starting parameters.\n",
      "  warn('Non-invertible starting MA parameters found.'\n",
      "C:\\Users\\RubensCividatiTeles\\.conda\\envs\\python37\\lib\\site-packages\\statsmodels\\base\\model.py:568: ConvergenceWarning: Maximum Likelihood optimization failed to converge. Check mle_retvals\n",
      "  ConvergenceWarning)\n",
      "C:\\Users\\RubensCividatiTeles\\.conda\\envs\\python37\\lib\\site-packages\\statsmodels\\tsa\\statespace\\sarimax.py:966: UserWarning: Non-stationary starting autoregressive parameters found. Using zeros as starting parameters.\n",
      "  warn('Non-stationary starting autoregressive parameters'\n",
      "C:\\Users\\RubensCividatiTeles\\.conda\\envs\\python37\\lib\\site-packages\\statsmodels\\tsa\\statespace\\sarimax.py:978: UserWarning: Non-invertible starting MA parameters found. Using zeros as starting parameters.\n",
      "  warn('Non-invertible starting MA parameters found.'\n",
      "C:\\Users\\RubensCividatiTeles\\.conda\\envs\\python37\\lib\\site-packages\\statsmodels\\base\\model.py:568: ConvergenceWarning: Maximum Likelihood optimization failed to converge. Check mle_retvals\n",
      "  ConvergenceWarning)\n",
      "C:\\Users\\RubensCividatiTeles\\.conda\\envs\\python37\\lib\\site-packages\\statsmodels\\tsa\\statespace\\sarimax.py:966: UserWarning: Non-stationary starting autoregressive parameters found. Using zeros as starting parameters.\n",
      "  warn('Non-stationary starting autoregressive parameters'\n",
      "C:\\Users\\RubensCividatiTeles\\.conda\\envs\\python37\\lib\\site-packages\\statsmodels\\tsa\\statespace\\sarimax.py:978: UserWarning: Non-invertible starting MA parameters found. Using zeros as starting parameters.\n",
      "  warn('Non-invertible starting MA parameters found.'\n",
      "C:\\Users\\RubensCividatiTeles\\.conda\\envs\\python37\\lib\\site-packages\\statsmodels\\base\\model.py:568: ConvergenceWarning: Maximum Likelihood optimization failed to converge. Check mle_retvals\n",
      "  ConvergenceWarning)\n",
      "C:\\Users\\RubensCividatiTeles\\.conda\\envs\\python37\\lib\\site-packages\\statsmodels\\base\\model.py:568: ConvergenceWarning: Maximum Likelihood optimization failed to converge. Check mle_retvals\n",
      "  ConvergenceWarning)\n",
      "C:\\Users\\RubensCividatiTeles\\.conda\\envs\\python37\\lib\\site-packages\\statsmodels\\base\\model.py:568: ConvergenceWarning: Maximum Likelihood optimization failed to converge. Check mle_retvals\n",
      "  ConvergenceWarning)\n",
      "C:\\Users\\RubensCividatiTeles\\.conda\\envs\\python37\\lib\\site-packages\\statsmodels\\base\\model.py:568: ConvergenceWarning: Maximum Likelihood optimization failed to converge. Check mle_retvals\n",
      "  ConvergenceWarning)\n",
      "C:\\Users\\RubensCividatiTeles\\.conda\\envs\\python37\\lib\\site-packages\\statsmodels\\tsa\\statespace\\sarimax.py:966: UserWarning: Non-stationary starting autoregressive parameters found. Using zeros as starting parameters.\n",
      "  warn('Non-stationary starting autoregressive parameters'\n",
      "C:\\Users\\RubensCividatiTeles\\.conda\\envs\\python37\\lib\\site-packages\\statsmodels\\tsa\\statespace\\sarimax.py:978: UserWarning: Non-invertible starting MA parameters found. Using zeros as starting parameters.\n",
      "  warn('Non-invertible starting MA parameters found.'\n",
      "C:\\Users\\RubensCividatiTeles\\.conda\\envs\\python37\\lib\\site-packages\\statsmodels\\base\\model.py:568: ConvergenceWarning: Maximum Likelihood optimization failed to converge. Check mle_retvals\n",
      "  ConvergenceWarning)\n",
      "C:\\Users\\RubensCividatiTeles\\.conda\\envs\\python37\\lib\\site-packages\\statsmodels\\base\\model.py:568: ConvergenceWarning: Maximum Likelihood optimization failed to converge. Check mle_retvals\n",
      "  ConvergenceWarning)\n",
      "C:\\Users\\RubensCividatiTeles\\.conda\\envs\\python37\\lib\\site-packages\\statsmodels\\tsa\\statespace\\sarimax.py:966: UserWarning: Non-stationary starting autoregressive parameters found. Using zeros as starting parameters.\n",
      "  warn('Non-stationary starting autoregressive parameters'\n",
      "C:\\Users\\RubensCividatiTeles\\.conda\\envs\\python37\\lib\\site-packages\\statsmodels\\tsa\\statespace\\sarimax.py:978: UserWarning: Non-invertible starting MA parameters found. Using zeros as starting parameters.\n",
      "  warn('Non-invertible starting MA parameters found.'\n",
      "C:\\Users\\RubensCividatiTeles\\.conda\\envs\\python37\\lib\\site-packages\\statsmodels\\base\\model.py:568: ConvergenceWarning: Maximum Likelihood optimization failed to converge. Check mle_retvals\n",
      "  ConvergenceWarning)\n",
      "C:\\Users\\RubensCividatiTeles\\.conda\\envs\\python37\\lib\\site-packages\\statsmodels\\tsa\\statespace\\sarimax.py:966: UserWarning: Non-stationary starting autoregressive parameters found. Using zeros as starting parameters.\n",
      "  warn('Non-stationary starting autoregressive parameters'\n",
      "C:\\Users\\RubensCividatiTeles\\.conda\\envs\\python37\\lib\\site-packages\\statsmodels\\tsa\\statespace\\sarimax.py:978: UserWarning: Non-invertible starting MA parameters found. Using zeros as starting parameters.\n",
      "  warn('Non-invertible starting MA parameters found.'\n"
     ]
    },
    {
     "name": "stdout",
     "output_type": "stream",
     "text": [
      "metrics for [auto]:\n",
      "    MAE 0.04375418800559451\n",
      "    RMSE 0.05609769608146071\n",
      "    MAPE 0.0470120227787985\n",
      "    sMAPE 0.04869843087555472\n",
      "    MASE 6.7202536480364525\n"
     ]
    },
    {
     "name": "stderr",
     "output_type": "stream",
     "text": [
      "C:\\Users\\RubensCividatiTeles\\.conda\\envs\\python37\\lib\\site-packages\\statsmodels\\base\\model.py:568: ConvergenceWarning: Maximum Likelihood optimization failed to converge. Check mle_retvals\n",
      "  ConvergenceWarning)\n"
     ]
    }
   ],
   "source": [
    "# auto arima forecaster\n",
    "# https://www.sktime.org/en/latest/api_reference/modules/auto_generated/sktime.forecasting.arima.AutoARIMA.html\n",
    "custom_method = { 1 : 'nm', 7 : 'bfgs', 30 : 'cg' }\n",
    "forecaster = AutoARIMA(method=custom_method[days_to_predict])\n",
    "forecaster.fit(y_train)\n",
    "y_pred_auto = forecaster.predict(fh)\n",
    "data_table = data_table.append(print_metrics('auto', y_pred_auto, y_test, y_train))"
   ]
  },
  {
   "cell_type": "code",
   "execution_count": 9,
   "metadata": {},
   "outputs": [
    {
     "name": "stdout",
     "output_type": "stream",
     "text": [
      "metrics for [expo]:\n",
      "    MAE 0.08726891292671499\n",
      "    RMSE 0.0938538781324537\n",
      "    MAPE 0.0894409030476455\n",
      "    sMAPE 0.09434748142198525\n",
      "    MASE 13.403727898708683\n"
     ]
    }
   ],
   "source": [
    "# exponential smoothing forecaster\n",
    "# https://www.sktime.org/en/latest/api_reference/modules/auto_generated/sktime.forecasting.exp_smoothing.ExponentialSmoothing.html\n",
    "forecaster = ExponentialSmoothing()\n",
    "forecaster.fit(y_train)\n",
    "y_pred_expo = forecaster.predict(fh)\n",
    "data_table = data_table.append(print_metrics('expo', y_pred_expo, y_test, y_train))"
   ]
  },
  {
   "cell_type": "code",
   "execution_count": 10,
   "metadata": {},
   "outputs": [
    {
     "name": "stdout",
     "output_type": "stream",
     "text": [
      "metrics for [theta]:\n",
      "    MAE 0.09770908499675936\n",
      "    RMSE 0.10377399905463164\n",
      "    MAPE 0.09905262048408672\n",
      "    sMAPE 0.1049458501531713\n",
      "    MASE 15.007245359274355\n"
     ]
    }
   ],
   "source": [
    "# theta forecaster\n",
    "# https://www.sktime.org/en/v0.4.2/modules/auto_generated/sktime.forecasting.theta.ThetaForecaster.html\n",
    "forecaster = ThetaForecaster()\n",
    "forecaster.fit(y_train)\n",
    "y_pred_theta = forecaster.predict(fh)\n",
    "data_table = data_table.append(print_metrics('theta', y_pred_theta, y_test, y_train))"
   ]
  },
  {
   "cell_type": "code",
   "execution_count": 11,
   "metadata": {},
   "outputs": [
    {
     "name": "stdout",
     "output_type": "stream",
     "text": [
      "metrics for [poly]:\n",
      "    MAE 0.05571648529206608\n",
      "    RMSE 0.06602128828355178\n",
      "    MAPE 0.06706074674216973\n",
      "    sMAPE 0.06404889666443427\n",
      "    MASE 8.557555987369737\n"
     ]
    }
   ],
   "source": [
    "# polynomial trend forecaster\n",
    "# https://www.sktime.org/en/v0.4.2/modules/auto_generated/sktime.forecasting.trend.PolynomialTrendForecaster.html\n",
    "custom_degree = { 1 : 4, 7 : 4, 30 : 1 }\n",
    "forecaster = PolynomialTrendForecaster(degree=custom_degree[days_to_predict])\n",
    "forecaster.fit(y_train)\n",
    "y_pred_poly = forecaster.predict(fh)\n",
    "data_table = data_table.append(print_metrics('poly', y_pred_poly, y_test, y_train))"
   ]
  },
  {
   "cell_type": "code",
   "execution_count": 12,
   "metadata": {
    "scrolled": false
   },
   "outputs": [
    {
     "name": "stdout",
     "output_type": "stream",
     "text": [
      "metrics for [prophet]:\n",
      "    MAE 0.04333210953599991\n",
      "    RMSE 0.05198782651156032\n",
      "    MAPE 0.05179707760209825\n",
      "    sMAPE 0.05006973072895325\n",
      "    MASE 6.655426153701783\n"
     ]
    }
   ],
   "source": [
    "# prophet forecaster\n",
    "# https://www.sktime.org/en/latest/api_reference/modules/auto_generated/sktime.forecasting.fbprophet.Prophet.html\n",
    "# forecaster = Prophet()\n",
    "forecaster = Prophet(yearly_seasonality=True, daily_seasonality=True)\n",
    "forecaster.fit(y_train)\n",
    "y_pred_prophet = forecaster.predict(fh)\n",
    "data_table = data_table.append(print_metrics('prophet', y_pred_prophet, y_test, y_train))"
   ]
  },
  {
   "cell_type": "code",
   "execution_count": 13,
   "metadata": {},
   "outputs": [],
   "source": [
    "#!/usr/bin/env python3 -u\n",
    "# -*- coding: utf-8 -*-\n",
    "# copyright: sktime developers, BSD-3-Clause License (see LICENSE file)\n",
    "\n",
    "__all__ = [\"plot_series\"]\n",
    "__author__ = [\"Markus Löning\"]\n",
    "\n",
    "import numpy as np\n",
    "\n",
    "from sktime.utils.validation._dependencies import _check_soft_dependencies\n",
    "from sktime.utils.validation.forecasting import check_y\n",
    "\n",
    "def custom_plot_series(*series, labels=None):\n",
    "    \"\"\"Plot one or more time series\n",
    "\n",
    "    Parameters\n",
    "    ----------\n",
    "    series : pd.Series\n",
    "        One or more time series\n",
    "    labels : list, optional (default=None)\n",
    "        Names of series, will be displayed in figure legend\n",
    "\n",
    "    Returns\n",
    "    -------\n",
    "    fig : plt.Figure\n",
    "    ax : plt.Axis\n",
    "    \"\"\"\n",
    "    _check_soft_dependencies(\"matplotlib\", \"seaborn\")\n",
    "    import matplotlib.pyplot as plt\n",
    "    from matplotlib.ticker import FuncFormatter, MaxNLocator\n",
    "    from matplotlib.cbook import flatten\n",
    "    import seaborn as sns\n",
    "\n",
    "    for y in series:\n",
    "        check_y(y)\n",
    "\n",
    "    n_series = len(series)\n",
    "\n",
    "    # labels\n",
    "    if labels is not None:\n",
    "        if n_series != len(labels):\n",
    "            raise ValueError(\n",
    "                \"\"\"There must be one label for each time series,\n",
    "                but found inconsistent numbers of series and\n",
    "                labels.\"\"\"\n",
    "            )\n",
    "        legend = True\n",
    "    else:\n",
    "        labels = [\"\" for _ in range(n_series)]\n",
    "        legend = False\n",
    "\n",
    "    # create combined index\n",
    "    index = series[0].index\n",
    "    for y in series[1:]:\n",
    "        # check types, note that isinstance() does not work here because index\n",
    "        # types inherit from each other, hence we check for type equality\n",
    "        if not type(index) is type(y.index):  # noqa\n",
    "            raise TypeError(\"Found series with different index types.\")\n",
    "        index = index.union(y.index)\n",
    "\n",
    "    # generate integer x-values\n",
    "    xs = [np.argwhere(index.isin(y.index)).ravel() for y in series]\n",
    "\n",
    "    # create figure\n",
    "    fig, ax = plt.subplots(1, figsize=plt.figaspect(0.25))\n",
    "    colors = sns.color_palette(\"colorblind\", n_colors=n_series)\n",
    "\n",
    "    # plot series\n",
    "    for x, y, color, label in zip(xs, series, colors, labels):\n",
    "        sns.lineplot(x=x, y=y, ax=ax, label=label, color=color)\n",
    "\n",
    "    # combine data points for all series\n",
    "    xs_flat = list(flatten(xs))\n",
    "\n",
    "    # set x label of data point to the matching index\n",
    "    def format_fn(tick_val, tick_pos):\n",
    "        if int(tick_val) in xs_flat:\n",
    "            date_arr = str(index[int(tick_val)])[:10].split('-')\n",
    "            date_str = f'{date_arr[2]}/{date_arr[1]}/{date_arr[0][:2]}'\n",
    "            return date_str\n",
    "        else:\n",
    "            return \"\"\n",
    "\n",
    "    # dynamically set x label ticks and spacing from index labels\n",
    "    ax.xaxis.set_major_formatter(FuncFormatter(format_fn))\n",
    "    ax.xaxis.set_major_locator(MaxNLocator(integer=True))\n",
    "\n",
    "    ax.grid()\n",
    "    ax.legend()\n",
    "    \n",
    "    fig.savefig(f'plot_{days_to_predict}_days.png')\n",
    "\n",
    "    return fig, ax"
   ]
  },
  {
   "cell_type": "code",
   "execution_count": 14,
   "metadata": {},
   "outputs": [
    {
     "data": {
      "text/plain": [
       "(<Figure size 1152x288 with 1 Axes>, <AxesSubplot:>)"
      ]
     },
     "execution_count": 14,
     "metadata": {},
     "output_type": "execute_result"
    },
    {
     "data": {
      "image/png": "[encoded data removed]",
      "text/plain": [
       "<Figure size 1152x288 with 1 Axes>"
      ]
     },
     "metadata": {
      "needs_background": "light"
     },
     "output_type": "display_data"
    }
   ],
   "source": [
    "custom_plot_series(y[:], y_test, labels=[\"Todos os dados\", \"teste\"])"
   ]
  },
  {
   "cell_type": "code",
   "execution_count": 15,
   "metadata": {},
   "outputs": [
    {
     "data": {
      "text/plain": [
       "366"
      ]
     },
     "execution_count": 15,
     "metadata": {},
     "output_type": "execute_result"
    }
   ],
   "source": [
    "len(y)"
   ]
  },
  {
   "cell_type": "code",
   "execution_count": 16,
   "metadata": {
    "scrolled": true
   },
   "outputs": [
    {
     "data": {
      "text/plain": [
       "(<Figure size 1152x288 with 1 Axes>, <AxesSubplot:>)"
      ]
     },
     "execution_count": 16,
     "metadata": {},
     "output_type": "execute_result"
    },
    {
     "data": {
      "image/png": "[encoded data removed]",
      "text/plain": [
       "<Figure size 1152x288 with 1 Axes>"
      ]
     },
     "metadata": {
      "needs_background": "light"
     },
     "output_type": "display_data"
    }
   ],
   "source": [
    "# plot all results\n",
    "custom_plot_series(y_train[-10:], y_test, y_pred_naive_last, y_pred_naive_mean, y_pred_naive_drift, y_pred_arima, y_pred_auto, y_pred_expo, y_pred_theta, y_pred_poly, \n",
    "            labels=[\"Treino\", \"Teste\", \"Naive_last\", \"Naive_mean\", \"Naive_drift\", \"ARIMA\", \"auto_ARIMA\", \"Holt-Winters\", \"Theta\", \"PolyThrend\"])"
   ]
  },
  {
   "cell_type": "code",
   "execution_count": 17,
   "metadata": {},
   "outputs": [
    {
     "data": {
      "text/html": [
       "<div>\n",
       "<style scoped>\n",
       "    .dataframe tbody tr th:only-of-type {\n",
       "        vertical-align: middle;\n",
       "    }\n",
       "\n",
       "    .dataframe tbody tr th {\n",
       "        vertical-align: top;\n",
       "    }\n",
       "\n",
       "    .dataframe thead th {\n",
       "        text-align: right;\n",
       "    }\n",
       "</style>\n",
       "<table border=\"1\" class=\"dataframe\">\n",
       "  <thead>\n",
       "    <tr style=\"text-align: right;\">\n",
       "      <th></th>\n",
       "      <th>Modelo</th>\n",
       "      <th>MAE</th>\n",
       "      <th>RMSE</th>\n",
       "      <th>MAPE</th>\n",
       "      <th>SMAPE</th>\n",
       "      <th>MASE</th>\n",
       "    </tr>\n",
       "  </thead>\n",
       "  <tbody>\n",
       "    <tr>\n",
       "      <th>0</th>\n",
       "      <td>naive_last</td>\n",
       "      <td>0.087269</td>\n",
       "      <td>0.093854</td>\n",
       "      <td>0.089441</td>\n",
       "      <td>0.094347</td>\n",
       "      <td>13.403728</td>\n",
       "    </tr>\n",
       "    <tr>\n",
       "      <th>0</th>\n",
       "      <td>naive_mean</td>\n",
       "      <td>0.286787</td>\n",
       "      <td>0.288859</td>\n",
       "      <td>0.476659</td>\n",
       "      <td>0.384052</td>\n",
       "      <td>44.047879</td>\n",
       "    </tr>\n",
       "    <tr>\n",
       "      <th>0</th>\n",
       "      <td>naive_drift</td>\n",
       "      <td>0.105336</td>\n",
       "      <td>0.111305</td>\n",
       "      <td>0.105901</td>\n",
       "      <td>0.112588</td>\n",
       "      <td>16.178705</td>\n",
       "    </tr>\n",
       "    <tr>\n",
       "      <th>0</th>\n",
       "      <td>arima</td>\n",
       "      <td>0.078998</td>\n",
       "      <td>0.086330</td>\n",
       "      <td>0.081636</td>\n",
       "      <td>0.085842</td>\n",
       "      <td>12.133367</td>\n",
       "    </tr>\n",
       "    <tr>\n",
       "      <th>0</th>\n",
       "      <td>auto</td>\n",
       "      <td>0.043754</td>\n",
       "      <td>0.056098</td>\n",
       "      <td>0.047012</td>\n",
       "      <td>0.048698</td>\n",
       "      <td>6.720254</td>\n",
       "    </tr>\n",
       "    <tr>\n",
       "      <th>0</th>\n",
       "      <td>expo</td>\n",
       "      <td>0.087269</td>\n",
       "      <td>0.093854</td>\n",
       "      <td>0.089441</td>\n",
       "      <td>0.094347</td>\n",
       "      <td>13.403728</td>\n",
       "    </tr>\n",
       "    <tr>\n",
       "      <th>0</th>\n",
       "      <td>theta</td>\n",
       "      <td>0.097709</td>\n",
       "      <td>0.103774</td>\n",
       "      <td>0.099053</td>\n",
       "      <td>0.104946</td>\n",
       "      <td>15.007245</td>\n",
       "    </tr>\n",
       "    <tr>\n",
       "      <th>0</th>\n",
       "      <td>poly</td>\n",
       "      <td>0.055716</td>\n",
       "      <td>0.066021</td>\n",
       "      <td>0.067061</td>\n",
       "      <td>0.064049</td>\n",
       "      <td>8.557556</td>\n",
       "    </tr>\n",
       "    <tr>\n",
       "      <th>0</th>\n",
       "      <td>prophet</td>\n",
       "      <td>0.043332</td>\n",
       "      <td>0.051988</td>\n",
       "      <td>0.051797</td>\n",
       "      <td>0.050070</td>\n",
       "      <td>6.655426</td>\n",
       "    </tr>\n",
       "  </tbody>\n",
       "</table>\n",
       "</div>"
      ],
      "text/plain": [
       "        Modelo       MAE      RMSE      MAPE     SMAPE       MASE\n",
       "0   naive_last  0.087269  0.093854  0.089441  0.094347  13.403728\n",
       "0   naive_mean  0.286787  0.288859  0.476659  0.384052  44.047879\n",
       "0  naive_drift  0.105336  0.111305  0.105901  0.112588  16.178705\n",
       "0        arima  0.078998  0.086330  0.081636  0.085842  12.133367\n",
       "0         auto  0.043754  0.056098  0.047012  0.048698   6.720254\n",
       "0         expo  0.087269  0.093854  0.089441  0.094347  13.403728\n",
       "0        theta  0.097709  0.103774  0.099053  0.104946  15.007245\n",
       "0         poly  0.055716  0.066021  0.067061  0.064049   8.557556\n",
       "0      prophet  0.043332  0.051988  0.051797  0.050070   6.655426"
      ]
     },
     "execution_count": 17,
     "metadata": {},
     "output_type": "execute_result"
    }
   ],
   "source": [
    "# metrics table\n",
    "data_table"
   ]
  }
 ],
 "metadata": {
  "kernelspec": {
   "display_name": "Python 3",
   "language": "python",
   "name": "python3"
  },
  "language_info": {
   "codemirror_mode": {
    "name": "ipython",
    "version": 3
   },
   "file_extension": ".py",
   "mimetype": "text/x-python",
   "name": "python",
   "nbconvert_exporter": "python",
   "pygments_lexer": "ipython3",
   "version": "3.7.9"
  }
 },
 "nbformat": 4,
 "nbformat_minor": 4
}
