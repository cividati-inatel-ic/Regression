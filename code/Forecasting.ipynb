{
 "cells": [
  {
   "cell_type": "markdown",
   "metadata": {},
   "source": [
    "Tudo da vida segue uma distribuição gaussiana.\n",
    "-V.C.A Marcelo"
   ]
  },
  {
   "cell_type": "markdown",
   "metadata": {},
   "source": [
    "## Loading data"
   ]
  },
  {
   "cell_type": "code",
   "execution_count": 1,
   "metadata": {
    "scrolled": true
   },
   "outputs": [],
   "source": [
    "import pandas as pd\n",
    "import numpy as np\n",
    "\n",
    "df_gold = pd.read_csv('../data/d_kilo_gold_price_in_currency.csv')\n",
    "df_gold['date'] = pd.to_datetime(df_gold['date'], infer_datetime_format=True)\n",
    "\n",
    "data_x = np.array(df_gold['date'])\n",
    "data_y = np.array(df_gold['America'])\n",
    "\n",
    "data_table = pd.DataFrame()"
   ]
  },
  {
   "cell_type": "markdown",
   "metadata": {},
   "source": [
    "## Forecasting with sktime\n",
    "\n",
    "[source](https://www.sktime.org/en/latest/index.html)\n",
    "[example1](https://towardsdatascience.com/sktime-a-unified-python-library-for-time-series-machine-learning-3c103c139a55)\n",
    "[example2](https://github.com/alan-turing-institute/sktime/blob/master/examples/01_forecasting.ipynb)"
   ]
  },
  {
   "cell_type": "code",
   "execution_count": 2,
   "metadata": {},
   "outputs": [],
   "source": [
    "import numpy as np\n",
    "from math import sqrt\n",
    "from sktime.performance_metrics.forecasting import *\n",
    "from sklearn.metrics import mean_squared_error as MSE\n",
    "from sklearn.metrics import mean_absolute_error as MAE\n",
    "from sklearn.utils import check_array\n",
    "\n",
    "import pandas as pd\n",
    "\n",
    "def RMSE(y_test, y_pred):\n",
    "    return MSE(y_test, y_pred, squared=False)\n",
    "\n",
    "# https://github.com/alan-turing-institute/sktime/blob/master/sktime/performance_metrics/forecasting/_functions.py\n",
    "def print_metrics(title, y_pred, y_test, y_train):\n",
    "    print(f'metrics for [{title}]:')\n",
    "    # https://otexts.com/fpp2/accuracy.html#scale-dependent-errors\n",
    "    print('    MAE', MAE(y_pred, y_test))\n",
    "    print('    RMSE', RMSE(y_pred, y_test))\n",
    "    # https://otexts.com/fpp2/accuracy.html#percentage-errors\n",
    "    print('    MAPE', mape_loss(y_pred, y_test))\n",
    "    print('    sMAPE', smape_loss(y_pred, y_test))\n",
    "    # https://otexts.com/fpp2/accuracy.html#scaled-errors\n",
    "    print('    MASE', mase_loss(y_pred, y_test, y_train))\n",
    "    \n",
    "    d = {'Modelo':[title],\n",
    "         'MAE':[MAE(y_pred, y_test)],\n",
    "         'RMSE':[RMSE(y_pred, y_test)],\n",
    "         'MAPE':[mape_loss(y_pred, y_test)],\n",
    "         'SMAPE':[smape_loss(y_pred, y_test)],\n",
    "         'MASE':[mase_loss(y_pred, y_test, y_train)]        \n",
    "    }\n",
    "    df = pd.DataFrame(data=d)                   \n",
    "    \n",
    "    return df"
   ]
  },
  {
   "cell_type": "code",
   "execution_count": 3,
   "metadata": {
    "scrolled": false
   },
   "outputs": [
    {
     "name": "stderr",
     "output_type": "stream",
     "text": [
      "Importing plotly failed. Interactive plots will not work.\n"
     ]
    },
    {
     "data": {
      "image/png": "[encoded data removed]",
      "text/plain": [
       "<Figure size 1152x288 with 1 Axes>"
      ]
     },
     "metadata": {
      "needs_background": "light"
     },
     "output_type": "display_data"
    }
   ],
   "source": [
    "from sktime.forecasting.all import *\n",
    "from sktime.forecasting.arima import ARIMA, AutoARIMA\n",
    "from sktime.forecasting.exp_smoothing import ExponentialSmoothing\n",
    "from sktime.forecasting.naive import NaiveForecaster\n",
    "from sktime.forecasting.theta import ThetaForecaster\n",
    "from sktime.forecasting.trend import PolynomialTrendForecaster\n",
    "from sktime.forecasting.fbprophet import Prophet\n",
    "\n",
    "# preparing data\n",
    "y = pd.Series(data_y, index=data_x)\n",
    "y.index.freq = 'd'\n",
    "plot_series(y)\n",
    "\n",
    "# defining the forecasting horizon\n",
    "# days to predict = 1, 7, 30\n",
    "days_to_predict = 1\n",
    "y_train, y_test = temporal_train_test_split(y, test_size=days_to_predict)\n",
    "fh = ForecastingHorizon(y_test.index, is_relative=False)\n",
    "#fh = np.arange(len(y_test)) + days_to_predict\n"
   ]
  },
  {
   "cell_type": "code",
   "execution_count": 4,
   "metadata": {},
   "outputs": [
    {
     "data": {
      "text/plain": [
       "DatetimeIndex(['2020-06-30'], dtype='datetime64[ns]', freq='D')"
      ]
     },
     "execution_count": 4,
     "metadata": {},
     "output_type": "execute_result"
    }
   ],
   "source": [
    "y_test.index"
   ]
  },
  {
   "cell_type": "code",
   "execution_count": 5,
   "metadata": {},
   "outputs": [
    {
     "data": {
      "text/plain": [
       "DatetimeIndex(['2019-07-01', '2019-07-02', '2019-07-03', '2019-07-04',\n",
       "               '2019-07-05', '2019-07-06', '2019-07-07', '2019-07-08',\n",
       "               '2019-07-09', '2019-07-10',\n",
       "               ...\n",
       "               '2020-06-20', '2020-06-21', '2020-06-22', '2020-06-23',\n",
       "               '2020-06-24', '2020-06-25', '2020-06-26', '2020-06-27',\n",
       "               '2020-06-28', '2020-06-29'],\n",
       "              dtype='datetime64[ns]', length=365, freq='D')"
      ]
     },
     "execution_count": 5,
     "metadata": {},
     "output_type": "execute_result"
    }
   ],
   "source": [
    "y_train.index"
   ]
  },
  {
   "cell_type": "code",
   "execution_count": 6,
   "metadata": {},
   "outputs": [
    {
     "name": "stdout",
     "output_type": "stream",
     "text": [
      "metrics for [naive_last]:\n",
      "    MAE 0.0017447287813203705\n",
      "    RMSE 0.0017447287813203705\n",
      "    MAPE 0.0019198891435523186\n",
      "    sMAPE 0.0019180479238594032\n",
      "    MASE 0.2499419738768932\n"
     ]
    }
   ],
   "source": [
    "# naive forecaster (last)\n",
    "# https://www.sktime.org/en/latest/api_reference/modules/auto_generated/sktime.forecasting.naive.NaiveForecaster.html\n",
    "forecaster = NaiveForecaster(strategy=\"last\")\n",
    "forecaster.fit(y_train)\n",
    "y_pred_naive_last = forecaster.predict(fh)\n",
    "data_table = data_table.append(print_metrics('naive_last', y_pred_naive_last, y_test, y_train))"
   ]
  },
  {
   "cell_type": "code",
   "execution_count": 7,
   "metadata": {},
   "outputs": [
    {
     "name": "stdout",
     "output_type": "stream",
     "text": [
      "metrics for [naive_mean]:\n",
      "    MAE 0.28612442634354174\n",
      "    RMSE 0.28612442634354174\n",
      "    MAPE 0.45824950150284327\n",
      "    sMAPE 0.37282586753109787\n",
      "    MASE 40.988894469075035\n"
     ]
    }
   ],
   "source": [
    "# naive forecaster (mean)\n",
    "# https://www.sktime.org/en/latest/api_reference/modules/auto_generated/sktime.forecasting.naive.NaiveForecaster.html\n",
    "forecaster = NaiveForecaster(strategy=\"mean\")\n",
    "forecaster.fit(y_train)\n",
    "y_pred_naive_mean = forecaster.predict(fh)\n",
    "data_table = data_table.append(print_metrics('naive_mean', y_pred_naive_mean, y_test, y_train))"
   ]
  },
  {
   "cell_type": "code",
   "execution_count": 8,
   "metadata": {},
   "outputs": [
    {
     "name": "stdout",
     "output_type": "stream",
     "text": [
      "metrics for [naive_drift]:\n",
      "    MAE 0.0008558924285653191\n",
      "    RMSE 0.0008558924285653191\n",
      "    MAPE 0.0009408986579852315\n",
      "    sMAPE 0.0009404562209871212\n",
      "    MASE 0.12261128796190968\n"
     ]
    }
   ],
   "source": [
    "# naive forecaster (drift)\n",
    "# https://www.sktime.org/en/latest/api_reference/modules/auto_generated/sktime.forecasting.naive.NaiveForecaster.html\n",
    "forecaster = NaiveForecaster(strategy=\"drift\")\n",
    "forecaster.fit(y_train)\n",
    "y_pred_naive_drift = forecaster.predict(fh)\n",
    "data_table = data_table.append(print_metrics('naive_drift', y_pred_naive_drift, y_test, y_train))"
   ]
  },
  {
   "cell_type": "code",
   "execution_count": 9,
   "metadata": {},
   "outputs": [
    {
     "name": "stderr",
     "output_type": "stream",
     "text": [
      "C:\\Users\\RubensCividatiTeles\\.conda\\envs\\python37\\lib\\site-packages\\statsmodels\\tsa\\statespace\\sarimax.py:966: UserWarning: Non-stationary starting autoregressive parameters found. Using zeros as starting parameters.\n",
      "  warn('Non-stationary starting autoregressive parameters'\n",
      "C:\\Users\\RubensCividatiTeles\\.conda\\envs\\python37\\lib\\site-packages\\statsmodels\\base\\model.py:568: ConvergenceWarning: Maximum Likelihood optimization failed to converge. Check mle_retvals\n",
      "  ConvergenceWarning)\n"
     ]
    },
    {
     "name": "stdout",
     "output_type": "stream",
     "text": [
      "metrics for [arima]:\n",
      "    MAE 0.0018213607221923\n",
      "    RMSE 0.0018213607221923\n",
      "    MAPE 0.002004383494474495\n",
      "    sMAPE 0.0020023767290417898\n",
      "    MASE 0.2609199200015926\n"
     ]
    }
   ],
   "source": [
    "# arima forecaster\n",
    "# https://www.sktime.org/en/latest/api_reference/modules/auto_generated/sktime.forecasting.arima.ARIMA.html\n",
    "custom_method = { 1 : 'bfgs', 2 : 'bfgs', 7 : 'bfgs', 30 : 'powell' }\n",
    "forecaster = ARIMA(method=custom_method[days_to_predict])\n",
    "forecaster.fit(y_train)\n",
    "y_pred_arima = forecaster.predict(fh)\n",
    "data_table = data_table.append(print_metrics('arima', y_pred_arima, y_test, y_train))"
   ]
  },
  {
   "cell_type": "code",
   "execution_count": 10,
   "metadata": {
    "scrolled": true
   },
   "outputs": [
    {
     "name": "stderr",
     "output_type": "stream",
     "text": [
      "C:\\Users\\RubensCividatiTeles\\.conda\\envs\\python37\\lib\\site-packages\\statsmodels\\tsa\\statespace\\sarimax.py:966: UserWarning: Non-stationary starting autoregressive parameters found. Using zeros as starting parameters.\n",
      "  warn('Non-stationary starting autoregressive parameters'\n",
      "C:\\Users\\RubensCividatiTeles\\.conda\\envs\\python37\\lib\\site-packages\\statsmodels\\tsa\\statespace\\sarimax.py:978: UserWarning: Non-invertible starting MA parameters found. Using zeros as starting parameters.\n",
      "  warn('Non-invertible starting MA parameters found.'\n",
      "C:\\Users\\RubensCividatiTeles\\.conda\\envs\\python37\\lib\\site-packages\\statsmodels\\base\\model.py:568: ConvergenceWarning: Maximum Likelihood optimization failed to converge. Check mle_retvals\n",
      "  ConvergenceWarning)\n",
      "C:\\Users\\RubensCividatiTeles\\.conda\\envs\\python37\\lib\\site-packages\\statsmodels\\base\\model.py:568: ConvergenceWarning: Maximum Likelihood optimization failed to converge. Check mle_retvals\n",
      "  ConvergenceWarning)\n",
      "C:\\Users\\RubensCividatiTeles\\.conda\\envs\\python37\\lib\\site-packages\\statsmodels\\base\\model.py:568: ConvergenceWarning: Maximum Likelihood optimization failed to converge. Check mle_retvals\n",
      "  ConvergenceWarning)\n",
      "C:\\Users\\RubensCividatiTeles\\.conda\\envs\\python37\\lib\\site-packages\\statsmodels\\base\\model.py:568: ConvergenceWarning: Maximum Likelihood optimization failed to converge. Check mle_retvals\n",
      "  ConvergenceWarning)\n",
      "C:\\Users\\RubensCividatiTeles\\.conda\\envs\\python37\\lib\\site-packages\\statsmodels\\base\\model.py:568: ConvergenceWarning: Maximum Likelihood optimization failed to converge. Check mle_retvals\n",
      "  ConvergenceWarning)\n",
      "C:\\Users\\RubensCividatiTeles\\.conda\\envs\\python37\\lib\\site-packages\\statsmodels\\base\\model.py:568: ConvergenceWarning: Maximum Likelihood optimization failed to converge. Check mle_retvals\n",
      "  ConvergenceWarning)\n",
      "C:\\Users\\RubensCividatiTeles\\.conda\\envs\\python37\\lib\\site-packages\\statsmodels\\base\\model.py:568: ConvergenceWarning: Maximum Likelihood optimization failed to converge. Check mle_retvals\n",
      "  ConvergenceWarning)\n",
      "C:\\Users\\RubensCividatiTeles\\.conda\\envs\\python37\\lib\\site-packages\\statsmodels\\base\\model.py:568: ConvergenceWarning: Maximum Likelihood optimization failed to converge. Check mle_retvals\n",
      "  ConvergenceWarning)\n",
      "C:\\Users\\RubensCividatiTeles\\.conda\\envs\\python37\\lib\\site-packages\\statsmodels\\base\\model.py:568: ConvergenceWarning: Maximum Likelihood optimization failed to converge. Check mle_retvals\n",
      "  ConvergenceWarning)\n",
      "C:\\Users\\RubensCividatiTeles\\.conda\\envs\\python37\\lib\\site-packages\\statsmodels\\base\\model.py:568: ConvergenceWarning: Maximum Likelihood optimization failed to converge. Check mle_retvals\n",
      "  ConvergenceWarning)\n",
      "C:\\Users\\RubensCividatiTeles\\.conda\\envs\\python37\\lib\\site-packages\\statsmodels\\base\\model.py:568: ConvergenceWarning: Maximum Likelihood optimization failed to converge. Check mle_retvals\n",
      "  ConvergenceWarning)\n",
      "C:\\Users\\RubensCividatiTeles\\.conda\\envs\\python37\\lib\\site-packages\\statsmodels\\base\\model.py:568: ConvergenceWarning: Maximum Likelihood optimization failed to converge. Check mle_retvals\n",
      "  ConvergenceWarning)\n",
      "C:\\Users\\RubensCividatiTeles\\.conda\\envs\\python37\\lib\\site-packages\\statsmodels\\base\\model.py:568: ConvergenceWarning: Maximum Likelihood optimization failed to converge. Check mle_retvals\n",
      "  ConvergenceWarning)\n"
     ]
    },
    {
     "name": "stdout",
     "output_type": "stream",
     "text": [
      "metrics for [auto]:\n",
      "    MAE 0.0018492541724881573\n",
      "    RMSE 0.0018492541724881573\n",
      "    MAPE 0.00203514234076796\n",
      "    sMAPE 0.0020330735437425773\n",
      "    MASE 0.26491580984981733\n"
     ]
    },
    {
     "name": "stderr",
     "output_type": "stream",
     "text": [
      "C:\\Users\\RubensCividatiTeles\\.conda\\envs\\python37\\lib\\site-packages\\statsmodels\\base\\model.py:568: ConvergenceWarning: Maximum Likelihood optimization failed to converge. Check mle_retvals\n",
      "  ConvergenceWarning)\n",
      "C:\\Users\\RubensCividatiTeles\\.conda\\envs\\python37\\lib\\site-packages\\statsmodels\\base\\model.py:568: ConvergenceWarning: Maximum Likelihood optimization failed to converge. Check mle_retvals\n",
      "  ConvergenceWarning)\n"
     ]
    }
   ],
   "source": [
    "# auto arima forecaster\n",
    "# https://www.sktime.org/en/latest/api_reference/modules/auto_generated/sktime.forecasting.arima.AutoARIMA.html\n",
    "custom_method = { 1 : 'nm', 2 : 'nm', 7 : 'bfgs', 30 : 'cg' }\n",
    "forecaster = AutoARIMA(method=custom_method[days_to_predict])\n",
    "forecaster.fit(y_train)\n",
    "y_pred_auto = forecaster.predict(fh)\n",
    "data_table = data_table.append(print_metrics('auto', y_pred_auto, y_test, y_train))"
   ]
  },
  {
   "cell_type": "code",
   "execution_count": 11,
   "metadata": {},
   "outputs": [
    {
     "name": "stdout",
     "output_type": "stream",
     "text": [
      "metrics for [expo]:\n",
      "    MAE 0.001744728731114753\n",
      "    RMSE 0.001744728731114753\n",
      "    MAPE 0.0019198890882002905\n",
      "    sMAPE 0.001918047868613492\n",
      "    MASE 0.24994196668466295\n"
     ]
    }
   ],
   "source": [
    "# exponential smoothing forecaster\n",
    "# https://www.sktime.org/en/latest/api_reference/modules/auto_generated/sktime.forecasting.exp_smoothing.ExponentialSmoothing.html\n",
    "forecaster = ExponentialSmoothing()\n",
    "forecaster.fit(y_train)\n",
    "y_pred_expo = forecaster.predict(fh)\n",
    "data_table = data_table.append(print_metrics('expo', y_pred_expo, y_test, y_train))"
   ]
  },
  {
   "cell_type": "code",
   "execution_count": 12,
   "metadata": {},
   "outputs": [
    {
     "name": "stdout",
     "output_type": "stream",
     "text": [
      "metrics for [theta]:\n",
      "    MAE 0.00041374616346212534\n",
      "    RMSE 0.00041374616346212534\n",
      "    MAPE 0.0004546179743430178\n",
      "    sMAPE 0.0004545146590762086\n",
      "    MASE 0.059271408763862485\n"
     ]
    }
   ],
   "source": [
    "# theta forecaster\n",
    "# https://www.sktime.org/en/v0.4.2/modules/auto_generated/sktime.forecasting.theta.ThetaForecaster.html\n",
    "forecaster = ThetaForecaster()\n",
    "forecaster.fit(y_train)\n",
    "y_pred_theta = forecaster.predict(fh)\n",
    "data_table = data_table.append(print_metrics('theta', y_pred_theta, y_test, y_train))"
   ]
  },
  {
   "cell_type": "code",
   "execution_count": 13,
   "metadata": {},
   "outputs": [
    {
     "name": "stdout",
     "output_type": "stream",
     "text": [
      "metrics for [poly]:\n",
      "    MAE 0.03071206173588592\n",
      "    RMSE 0.03071206173588592\n",
      "    MAPE 0.03490808139899669\n",
      "    sMAPE 0.03430924641568815\n",
      "    MASE 4.399671406971996\n"
     ]
    }
   ],
   "source": [
    "# polynomial trend forecaster\n",
    "# https://www.sktime.org/en/v0.4.2/modules/auto_generated/sktime.forecasting.trend.PolynomialTrendForecaster.html\n",
    "custom_degree = { 1 : 4, 2: 4, 7 : 4, 30 : 1 }\n",
    "forecaster = PolynomialTrendForecaster(degree=custom_degree[days_to_predict])\n",
    "forecaster.fit(y_train)\n",
    "y_pred_poly = forecaster.predict(fh)\n",
    "data_table = data_table.append(print_metrics('poly', y_pred_poly, y_test, y_train))"
   ]
  },
  {
   "cell_type": "code",
   "execution_count": 14,
   "metadata": {
    "scrolled": false
   },
   "outputs": [
    {
     "name": "stdout",
     "output_type": "stream",
     "text": [
      "metrics for [prophet]:\n",
      "    MAE 0.006100114959729064\n",
      "    RMSE 0.006100114959729064\n",
      "    MAPE 0.00665508066761493\n",
      "    sMAPE 0.006677299651526302\n",
      "    MASE 0.8738749484930308\n"
     ]
    }
   ],
   "source": [
    "# prophet forecaster\n",
    "# https://www.sktime.org/en/latest/api_reference/modules/auto_generated/sktime.forecasting.fbprophet.Prophet.html\n",
    "# forecaster = Prophet()\n",
    "forecaster = Prophet(yearly_seasonality=True, daily_seasonality=True)\n",
    "forecaster.fit(y_train)\n",
    "y_pred_prophet = forecaster.predict(fh)\n",
    "data_table = data_table.append(print_metrics('prophet', y_pred_prophet, y_test, y_train))"
   ]
  },
  {
   "cell_type": "code",
   "execution_count": 15,
   "metadata": {},
   "outputs": [],
   "source": [
    "#!/usr/bin/env python3 -u\n",
    "# -*- coding: utf-8 -*-\n",
    "# copyright: sktime developers, BSD-3-Clause License (see LICENSE file)\n",
    "\n",
    "__all__ = [\"plot_series\"]\n",
    "__author__ = [\"Markus Löning\"]\n",
    "\n",
    "import numpy as np\n",
    "\n",
    "from sktime.utils.validation._dependencies import _check_soft_dependencies\n",
    "from sktime.utils.validation.forecasting import check_y\n",
    "\n",
    "def custom_plot_series(timespan, *series, labels=None):\n",
    "    \"\"\"Plot one or more time series\n",
    "\n",
    "    Parameters\n",
    "    ----------\n",
    "    series : pd.Series\n",
    "        One or more time series\n",
    "    labels : list, optional (default=None)\n",
    "        Names of series, will be displayed in figure legend\n",
    "\n",
    "    Returns\n",
    "    -------\n",
    "    fig : plt.Figure\n",
    "    ax : plt.Axis\n",
    "    \"\"\"\n",
    "    _check_soft_dependencies(\"matplotlib\", \"seaborn\")\n",
    "    import matplotlib.pyplot as plt\n",
    "    from matplotlib.ticker import FuncFormatter, MaxNLocator\n",
    "    from matplotlib.cbook import flatten\n",
    "    import seaborn as sns\n",
    "\n",
    "    for y in series:\n",
    "        check_y(y)\n",
    "\n",
    "    n_series = len(series)\n",
    "\n",
    "    # labels\n",
    "    if labels is not None:\n",
    "        if n_series != len(labels):\n",
    "            raise ValueError(\n",
    "                \"\"\"There must be one label for each time series,\n",
    "                but found inconsistent numbers of series and\n",
    "                labels.\"\"\"\n",
    "            )\n",
    "        legend = True\n",
    "    else:\n",
    "        labels = [\"\" for _ in range(n_series)]\n",
    "        legend = True\n",
    "\n",
    "    # create combined index\n",
    "    index = series[0].index\n",
    "    for y in series[1:]:\n",
    "        # check types, note that isinstance() does not work here because index\n",
    "        # types inherit from each other, hence we check for type equality\n",
    "        if not type(index) is type(y.index):  # noqa\n",
    "            raise TypeError(\"Found series with different index types.\")\n",
    "        index = index.union(y.index)\n",
    "\n",
    "    # generate integer x-values\n",
    "    xs = [np.argwhere(index.isin(y.index)).ravel() for y in series]\n",
    "\n",
    "    # create figure\n",
    "    fig, ax = plt.subplots(1, figsize=plt.figaspect(0.5))\n",
    "    colors = sns.color_palette(\"colorblind\", n_colors=n_series)\n",
    "    fig.set_size_inches(11.7, 8.27)\n",
    "    fig.set_size_inches(11.7, 8.27)\n",
    "  \n",
    "    # plot series\n",
    "    for x, y, color, label in zip(xs, series, colors, labels):\n",
    "        sns.scatterplot(x=x, y=y, ax=ax, label=label, color=color)\n",
    "\n",
    "    # combine data points for all series\n",
    "    xs_flat = list(flatten(xs))\n",
    "\n",
    "    # set x label of data point to the matching index\n",
    "    def format_fn(tick_val, tick_pos):\n",
    "        if int(tick_val) in xs_flat:\n",
    "            date_arr = str(index[int(tick_val)])[:10].split('-')\n",
    "            date_str = f'{date_arr[2]}/{date_arr[1]}/{date_arr[0][:2]}'\n",
    "            return date_str\n",
    "        else:\n",
    "            return \"\"\n",
    "\n",
    "    # dynamically set x label ticks and spacing from index labels\n",
    "    ax.xaxis.set_major_formatter(FuncFormatter(format_fn))\n",
    "    ax.xaxis.set_major_locator(MaxNLocator(integer=True))\n",
    "\n",
    "    ax.grid()\n",
    "    #ax = fig.add_axes([0.1,0.1,0.75,0.75]) # axis starts at 0.1, 0.1\n",
    "    ax.legend(fontsize='xx-large')\n",
    "    ax.set_xlabel('DATA', fontsize='xx-large')\n",
    "    ax.set_ylabel('VALOR', fontsize='xx-large')\n",
    "    plt.savefig(f'plot_{timespan}_days.png')\n",
    "    print(fig)\n",
    "    return fig, ax"
   ]
  },
  {
   "cell_type": "markdown",
   "metadata": {},
   "source": [
    "### Gráfico completo - treino / teste / pred"
   ]
  },
  {
   "cell_type": "code",
   "execution_count": 16,
   "metadata": {
    "scrolled": false
   },
   "outputs": [
    {
     "name": "stdout",
     "output_type": "stream",
     "text": [
      "Figure(842.4x595.44)\n"
     ]
    },
    {
     "data": {
      "text/plain": [
       "(<Figure size 842.4x595.44 with 1 Axes>,\n",
       " <AxesSubplot:xlabel='DATA', ylabel='VALOR'>)"
      ]
     },
     "execution_count": 16,
     "metadata": {},
     "output_type": "execute_result"
    },
    {
     "data": {
      "image/png": "[encoded data removed]",
      "text/plain": [
       "<Figure size 842.4x595.44 with 1 Axes>"
      ]
     },
     "metadata": {
      "needs_background": "light"
     },
     "output_type": "display_data"
    }
   ],
   "source": [
    "# plot all results\n",
    "custom_plot_series(days_to_predict, y_train[:], y_test, y_pred_naive_last, y_pred_naive_mean, y_pred_naive_drift, y_pred_arima, y_pred_auto, y_pred_expo, y_pred_theta, y_pred_poly, \n",
    "            labels=[\"Treinamento\", \"Previsão\", \"Naïve (last)\", \"Naïve (mean)\", \"Naïve (drift)\", \"ARIMA\", \"Auto-ARIMA\", \"Holt-Winters\", \"Theta\", \"Polynomial\"])"
   ]
  },
  {
   "cell_type": "code",
   "execution_count": 17,
   "metadata": {
    "scrolled": true
   },
   "outputs": [
    {
     "name": "stdout",
     "output_type": "stream",
     "text": [
      "Figure(842.4x595.44)\n"
     ]
    },
    {
     "data": {
      "text/plain": [
       "(<Figure size 842.4x595.44 with 1 Axes>,\n",
       " <AxesSubplot:xlabel='DATA', ylabel='VALOR'>)"
      ]
     },
     "execution_count": 17,
     "metadata": {},
     "output_type": "execute_result"
    },
    {
     "data": {
      "image/png": "[encoded data removed]",
      "text/plain": [
       "<Figure size 842.4x595.44 with 1 Axes>"
      ]
     },
     "metadata": {
      "needs_background": "light"
     },
     "output_type": "display_data"
    }
   ],
   "source": [
    "# plot all results\n",
    "custom_plot_series(3*days_to_predict, y_train[-3*days_to_predict:], y_test, y_pred_naive_last, y_pred_naive_mean, y_pred_naive_drift, y_pred_arima, y_pred_auto, y_pred_expo, y_pred_theta, y_pred_poly, \n",
    "            labels=[\"Treinamento\", \"Previsão\", \"Naïve (last)\", \"Naïve (mean)\", \"Naïve (drift)\", \"ARIMA\", \"Auto-ARIMA\", \"Holt-Winters\", \"Theta\", \"Polynomial\"])"
   ]
  },
  {
   "cell_type": "code",
   "execution_count": 32,
   "metadata": {},
   "outputs": [
    {
     "name": "stdout",
     "output_type": "stream",
     "text": [
      "\n",
      "y_test      0.9105101057718618\n",
      "naive_last  0.9087653769905414\n",
      "naive_mean  0.62438567942832\n",
      "drift       0.9096542133432964\n",
      "arima       0.9086887450496695\n",
      "auto        0.9086608515993736\n",
      "expo        0.908765377040747\n",
      "thet        0.9100963596083996\n",
      "poly        0.8797980440359758\n",
      "\n"
     ]
    }
   ],
   "source": [
    "print(f\"\"\"\n",
    "y_test      {y_test[0]}\n",
    "naive_last  {y_pred_naive_last[0]}\n",
    "naive_mean  {y_pred_naive_mean[0]}\n",
    "drift       {y_pred_naive_drift[0]}\n",
    "arima       {y_pred_arima[0]}\n",
    "auto        {y_pred_auto[0]}\n",
    "expo        {y_pred_expo[0]}\n",
    "thet        {y_pred_theta[0]}\n",
    "poly        {y_pred_poly[0]}\n",
    "\"\"\")"
   ]
  },
  {
   "cell_type": "code",
   "execution_count": 24,
   "metadata": {},
   "outputs": [
    {
     "data": {
      "text/plain": [
       "0.9105101057718618"
      ]
     },
     "execution_count": 24,
     "metadata": {},
     "output_type": "execute_result"
    }
   ],
   "source": [
    "y_test[0]"
   ]
  },
  {
   "cell_type": "code",
   "execution_count": 18,
   "metadata": {},
   "outputs": [
    {
     "data": {
      "text/html": [
       "<div>\n",
       "<style scoped>\n",
       "    .dataframe tbody tr th:only-of-type {\n",
       "        vertical-align: middle;\n",
       "    }\n",
       "\n",
       "    .dataframe tbody tr th {\n",
       "        vertical-align: top;\n",
       "    }\n",
       "\n",
       "    .dataframe thead th {\n",
       "        text-align: right;\n",
       "    }\n",
       "</style>\n",
       "<table border=\"1\" class=\"dataframe\">\n",
       "  <thead>\n",
       "    <tr style=\"text-align: right;\">\n",
       "      <th></th>\n",
       "      <th>Modelo</th>\n",
       "      <th>MAE</th>\n",
       "      <th>RMSE</th>\n",
       "      <th>MAPE</th>\n",
       "      <th>SMAPE</th>\n",
       "      <th>MASE</th>\n",
       "    </tr>\n",
       "  </thead>\n",
       "  <tbody>\n",
       "    <tr>\n",
       "      <th>0</th>\n",
       "      <td>naive_last</td>\n",
       "      <td>0.001745</td>\n",
       "      <td>0.001745</td>\n",
       "      <td>0.001920</td>\n",
       "      <td>0.001918</td>\n",
       "      <td>0.249942</td>\n",
       "    </tr>\n",
       "    <tr>\n",
       "      <th>0</th>\n",
       "      <td>naive_mean</td>\n",
       "      <td>0.286124</td>\n",
       "      <td>0.286124</td>\n",
       "      <td>0.458250</td>\n",
       "      <td>0.372826</td>\n",
       "      <td>40.988894</td>\n",
       "    </tr>\n",
       "    <tr>\n",
       "      <th>0</th>\n",
       "      <td>naive_drift</td>\n",
       "      <td>0.000856</td>\n",
       "      <td>0.000856</td>\n",
       "      <td>0.000941</td>\n",
       "      <td>0.000940</td>\n",
       "      <td>0.122611</td>\n",
       "    </tr>\n",
       "    <tr>\n",
       "      <th>0</th>\n",
       "      <td>arima</td>\n",
       "      <td>0.001821</td>\n",
       "      <td>0.001821</td>\n",
       "      <td>0.002004</td>\n",
       "      <td>0.002002</td>\n",
       "      <td>0.260920</td>\n",
       "    </tr>\n",
       "    <tr>\n",
       "      <th>0</th>\n",
       "      <td>auto</td>\n",
       "      <td>0.001849</td>\n",
       "      <td>0.001849</td>\n",
       "      <td>0.002035</td>\n",
       "      <td>0.002033</td>\n",
       "      <td>0.264916</td>\n",
       "    </tr>\n",
       "    <tr>\n",
       "      <th>0</th>\n",
       "      <td>expo</td>\n",
       "      <td>0.001745</td>\n",
       "      <td>0.001745</td>\n",
       "      <td>0.001920</td>\n",
       "      <td>0.001918</td>\n",
       "      <td>0.249942</td>\n",
       "    </tr>\n",
       "    <tr>\n",
       "      <th>0</th>\n",
       "      <td>theta</td>\n",
       "      <td>0.000414</td>\n",
       "      <td>0.000414</td>\n",
       "      <td>0.000455</td>\n",
       "      <td>0.000455</td>\n",
       "      <td>0.059271</td>\n",
       "    </tr>\n",
       "    <tr>\n",
       "      <th>0</th>\n",
       "      <td>poly</td>\n",
       "      <td>0.030712</td>\n",
       "      <td>0.030712</td>\n",
       "      <td>0.034908</td>\n",
       "      <td>0.034309</td>\n",
       "      <td>4.399671</td>\n",
       "    </tr>\n",
       "    <tr>\n",
       "      <th>0</th>\n",
       "      <td>prophet</td>\n",
       "      <td>0.006100</td>\n",
       "      <td>0.006100</td>\n",
       "      <td>0.006655</td>\n",
       "      <td>0.006677</td>\n",
       "      <td>0.873875</td>\n",
       "    </tr>\n",
       "  </tbody>\n",
       "</table>\n",
       "</div>"
      ],
      "text/plain": [
       "        Modelo       MAE      RMSE      MAPE     SMAPE       MASE\n",
       "0   naive_last  0.001745  0.001745  0.001920  0.001918   0.249942\n",
       "0   naive_mean  0.286124  0.286124  0.458250  0.372826  40.988894\n",
       "0  naive_drift  0.000856  0.000856  0.000941  0.000940   0.122611\n",
       "0        arima  0.001821  0.001821  0.002004  0.002002   0.260920\n",
       "0         auto  0.001849  0.001849  0.002035  0.002033   0.264916\n",
       "0         expo  0.001745  0.001745  0.001920  0.001918   0.249942\n",
       "0        theta  0.000414  0.000414  0.000455  0.000455   0.059271\n",
       "0         poly  0.030712  0.030712  0.034908  0.034309   4.399671\n",
       "0      prophet  0.006100  0.006100  0.006655  0.006677   0.873875"
      ]
     },
     "execution_count": 18,
     "metadata": {},
     "output_type": "execute_result"
    }
   ],
   "source": [
    "# metrics table\n",
    "data_table"
   ]
  }
 ],
 "metadata": {
  "kernelspec": {
   "display_name": "Python 3",
   "language": "python",
   "name": "python3"
  },
  "language_info": {
   "codemirror_mode": {
    "name": "ipython",
    "version": 3
   },
   "file_extension": ".py",
   "mimetype": "text/x-python",
   "name": "python",
   "nbconvert_exporter": "python",
   "pygments_lexer": "ipython3",
   "version": "3.7.9"
  }
 },
 "nbformat": 4,
 "nbformat_minor": 4
}
