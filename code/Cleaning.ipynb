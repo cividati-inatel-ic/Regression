{
 "cells": [
  {
   "cell_type": "markdown",
   "metadata": {},
   "source": [
    "### Libraries "
   ]
  },
  {
   "cell_type": "code",
   "execution_count": 1,
   "metadata": {},
   "outputs": [],
   "source": [
    "import sqlite3\n",
    "import pandas as pd\n",
    "import numpy as np\n",
    "import matplotlib.pyplot as plt\n",
    "\n",
    "connection = sqlite3.connect('../data/wow.db')\n",
    "\n",
    "df_wowtoken = pd.read_sql_query(\"SELECT * FROM wowtoken WHERE date!=''\", connection)\n",
    "df_currency = pd.read_sql_query(\"SELECT * FROM currency WHERE date!=''\", connection)\n",
    "\n",
    "connection.close()"
   ]
  },
  {
   "cell_type": "markdown",
   "metadata": {},
   "source": [
    "Removing unuseful columns"
   ]
  },
  {
   "cell_type": "code",
   "execution_count": 2,
   "metadata": {},
   "outputs": [],
   "source": [
    "df_wowtoken = df_wowtoken.drop([\"id\", \"index\"], axis=1)\n",
    "df_currency = df_currency.drop([\"id\",'index'], axis=1)"
   ]
  },
  {
   "cell_type": "markdown",
   "metadata": {},
   "source": [
    "### Raw currency dataframe"
   ]
  },
  {
   "cell_type": "code",
   "execution_count": 3,
   "metadata": {
    "scrolled": true
   },
   "outputs": [
    {
     "data": {
      "text/html": [
       "<div>\n",
       "<style scoped>\n",
       "    .dataframe tbody tr th:only-of-type {\n",
       "        vertical-align: middle;\n",
       "    }\n",
       "\n",
       "    .dataframe tbody tr th {\n",
       "        vertical-align: top;\n",
       "    }\n",
       "\n",
       "    .dataframe thead th {\n",
       "        text-align: right;\n",
       "    }\n",
       "</style>\n",
       "<table border=\"1\" class=\"dataframe\">\n",
       "  <thead>\n",
       "    <tr style=\"text-align: right;\">\n",
       "      <th></th>\n",
       "      <th>date</th>\n",
       "      <th>time</th>\n",
       "      <th>Usd</th>\n",
       "      <th>Eur</th>\n",
       "      <th>Cny</th>\n",
       "      <th>Krw</th>\n",
       "      <th>Brl</th>\n",
       "    </tr>\n",
       "  </thead>\n",
       "  <tbody>\n",
       "    <tr>\n",
       "      <th>0</th>\n",
       "      <td>03/27/2019</td>\n",
       "      <td>14:40:02</td>\n",
       "      <td>1</td>\n",
       "      <td>0.885661146</td>\n",
       "      <td>6.7149056771</td>\n",
       "      <td>1134.4522185812</td>\n",
       "      <td>None</td>\n",
       "    </tr>\n",
       "    <tr>\n",
       "      <th>1</th>\n",
       "      <td>03/27/2019</td>\n",
       "      <td>15:00:01</td>\n",
       "      <td>1</td>\n",
       "      <td>0.885661146</td>\n",
       "      <td>6.7149056771</td>\n",
       "      <td>1134.4522185812</td>\n",
       "      <td>None</td>\n",
       "    </tr>\n",
       "    <tr>\n",
       "      <th>2</th>\n",
       "      <td>03/27/2019</td>\n",
       "      <td>15:20:02</td>\n",
       "      <td>1</td>\n",
       "      <td>0.8880206021</td>\n",
       "      <td>6.7248912175</td>\n",
       "      <td>1137.5543912619</td>\n",
       "      <td>None</td>\n",
       "    </tr>\n",
       "    <tr>\n",
       "      <th>3</th>\n",
       "      <td>03/27/2019</td>\n",
       "      <td>15:40:02</td>\n",
       "      <td>1</td>\n",
       "      <td>0.8880206021</td>\n",
       "      <td>6.7248912175</td>\n",
       "      <td>1137.5543912619</td>\n",
       "      <td>None</td>\n",
       "    </tr>\n",
       "    <tr>\n",
       "      <th>4</th>\n",
       "      <td>03/27/2019</td>\n",
       "      <td>16:00:02</td>\n",
       "      <td>1</td>\n",
       "      <td>0.8880206021</td>\n",
       "      <td>6.7248912175</td>\n",
       "      <td>1137.5543912619</td>\n",
       "      <td>None</td>\n",
       "    </tr>\n",
       "  </tbody>\n",
       "</table>\n",
       "</div>"
      ],
      "text/plain": [
       "         date      time Usd           Eur           Cny              Krw   Brl\n",
       "0  03/27/2019  14:40:02   1   0.885661146  6.7149056771  1134.4522185812  None\n",
       "1  03/27/2019  15:00:01   1   0.885661146  6.7149056771  1134.4522185812  None\n",
       "2  03/27/2019  15:20:02   1  0.8880206021  6.7248912175  1137.5543912619  None\n",
       "3  03/27/2019  15:40:02   1  0.8880206021  6.7248912175  1137.5543912619  None\n",
       "4  03/27/2019  16:00:02   1  0.8880206021  6.7248912175  1137.5543912619  None"
      ]
     },
     "execution_count": 3,
     "metadata": {},
     "output_type": "execute_result"
    }
   ],
   "source": [
    "df_currency.head()"
   ]
  },
  {
   "cell_type": "markdown",
   "metadata": {},
   "source": [
    "### Raw wowtoken dataframe"
   ]
  },
  {
   "cell_type": "code",
   "execution_count": 4,
   "metadata": {
    "scrolled": true
   },
   "outputs": [
    {
     "data": {
      "text/html": [
       "<div>\n",
       "<style scoped>\n",
       "    .dataframe tbody tr th:only-of-type {\n",
       "        vertical-align: middle;\n",
       "    }\n",
       "\n",
       "    .dataframe tbody tr th {\n",
       "        vertical-align: top;\n",
       "    }\n",
       "\n",
       "    .dataframe thead th {\n",
       "        text-align: right;\n",
       "    }\n",
       "</style>\n",
       "<table border=\"1\" class=\"dataframe\">\n",
       "  <thead>\n",
       "    <tr style=\"text-align: right;\">\n",
       "      <th></th>\n",
       "      <th>date</th>\n",
       "      <th>time</th>\n",
       "      <th>Us</th>\n",
       "      <th>Eu</th>\n",
       "      <th>Ch</th>\n",
       "      <th>Kr</th>\n",
       "      <th>Tw</th>\n",
       "    </tr>\n",
       "  </thead>\n",
       "  <tbody>\n",
       "    <tr>\n",
       "      <th>0</th>\n",
       "      <td>03/02/2019</td>\n",
       "      <td>14:00:01</td>\n",
       "      <td>111,249</td>\n",
       "      <td>159,930</td>\n",
       "      <td>184,765</td>\n",
       "      <td>242,896</td>\n",
       "      <td>263,267</td>\n",
       "    </tr>\n",
       "    <tr>\n",
       "      <th>1</th>\n",
       "      <td>03/02/2019</td>\n",
       "      <td>14:20:01</td>\n",
       "      <td>111,076</td>\n",
       "      <td>160,582</td>\n",
       "      <td>185,593</td>\n",
       "      <td>245,325</td>\n",
       "      <td>263,694</td>\n",
       "    </tr>\n",
       "    <tr>\n",
       "      <th>2</th>\n",
       "      <td>03/02/2019</td>\n",
       "      <td>14:40:01</td>\n",
       "      <td>111,096</td>\n",
       "      <td>160,815</td>\n",
       "      <td>186,028</td>\n",
       "      <td>247,778</td>\n",
       "      <td>263,088</td>\n",
       "    </tr>\n",
       "    <tr>\n",
       "      <th>3</th>\n",
       "      <td>03/02/2019</td>\n",
       "      <td>15:00:01</td>\n",
       "      <td>111,199</td>\n",
       "      <td>160,434</td>\n",
       "      <td>186,136</td>\n",
       "      <td>249,695</td>\n",
       "      <td>262,637</td>\n",
       "    </tr>\n",
       "    <tr>\n",
       "      <th>4</th>\n",
       "      <td>03/02/2019</td>\n",
       "      <td>15:20:01</td>\n",
       "      <td>111,234</td>\n",
       "      <td>160,014</td>\n",
       "      <td>186,335</td>\n",
       "      <td>250,066</td>\n",
       "      <td>262,494</td>\n",
       "    </tr>\n",
       "  </tbody>\n",
       "</table>\n",
       "</div>"
      ],
      "text/plain": [
       "         date      time       Us       Eu       Ch       Kr       Tw\n",
       "0  03/02/2019  14:00:01  111,249  159,930  184,765  242,896  263,267\n",
       "1  03/02/2019  14:20:01  111,076  160,582  185,593  245,325  263,694\n",
       "2  03/02/2019  14:40:01  111,096  160,815  186,028  247,778  263,088\n",
       "3  03/02/2019  15:00:01  111,199  160,434  186,136  249,695  262,637\n",
       "4  03/02/2019  15:20:01  111,234  160,014  186,335  250,066  262,494"
      ]
     },
     "execution_count": 4,
     "metadata": {},
     "output_type": "execute_result"
    }
   ],
   "source": [
    "df_wowtoken.head()"
   ]
  },
  {
   "cell_type": "markdown",
   "metadata": {},
   "source": [
    "## Cleaning wowtoken dataframe"
   ]
  },
  {
   "cell_type": "markdown",
   "metadata": {},
   "source": [
    "Replacing , with ."
   ]
  },
  {
   "cell_type": "code",
   "execution_count": 5,
   "metadata": {},
   "outputs": [],
   "source": [
    "df_wowtoken[\"Us\"] = df_wowtoken[\"Us\"].str.replace(\",\", \".\")\n",
    "df_wowtoken[\"Eu\"] = df_wowtoken[\"Eu\"].str.replace(\",\", \".\")\n",
    "df_wowtoken[\"Ch\"] = df_wowtoken[\"Ch\"].str.replace(\",\", \".\")\n",
    "df_wowtoken[\"Kr\"] = df_wowtoken[\"Kr\"].str.replace(\",\", \".\")\n",
    "df_wowtoken[\"Tw\"] = df_wowtoken[\"Tw\"].str.replace(\",\", \".\")"
   ]
  },
  {
   "cell_type": "markdown",
   "metadata": {},
   "source": [
    "Converting from str to np.float64"
   ]
  },
  {
   "cell_type": "code",
   "execution_count": 6,
   "metadata": {},
   "outputs": [],
   "source": [
    "df_wowtoken['Us'] = pd.to_numeric(df_wowtoken[\"Us\"])\n",
    "df_wowtoken['Eu'] = pd.to_numeric(df_wowtoken[\"Eu\"])\n",
    "df_wowtoken['Ch'] = pd.to_numeric(df_wowtoken[\"Ch\"])\n",
    "df_wowtoken['Kr'] = pd.to_numeric(df_wowtoken[\"Kr\"])\n",
    "df_wowtoken['Tw'] = pd.to_numeric(df_wowtoken[\"Tw\"])"
   ]
  },
  {
   "cell_type": "markdown",
   "metadata": {},
   "source": [
    "Converting date and time column to one column"
   ]
  },
  {
   "cell_type": "code",
   "execution_count": 7,
   "metadata": {},
   "outputs": [],
   "source": [
    "s1 = (df_wowtoken['date']+' - '+df_wowtoken['time'])\n",
    "\n",
    "#altering format\n",
    "s1 = pd.to_datetime(s1, infer_datetime_format=True) \n",
    "\n",
    "#removing columns\n",
    "df_wowtoken = df_wowtoken.drop(['date', 'time'], axis=1)\n",
    "\n",
    "# add new column\n",
    "df_wowtoken['date'] = s1\n",
    "\n",
    "#reordering colmuns\n",
    "df_wowtoken = df_wowtoken[['date','Us', 'Eu', 'Ch', 'Kr', 'Tw']]"
   ]
  },
  {
   "cell_type": "markdown",
   "metadata": {},
   "source": [
    "## Cleaning currency dataframe"
   ]
  },
  {
   "cell_type": "markdown",
   "metadata": {},
   "source": [
    "Filling NULL values in Brl Column"
   ]
  },
  {
   "cell_type": "code",
   "execution_count": 8,
   "metadata": {},
   "outputs": [],
   "source": [
    "# Copying the last value\n",
    "s1 = df_currency['Brl']\n",
    "# there is no data frmo 0 to 234\n",
    "# so I copy the last values\n",
    "s1[0:235] = s1[235]\n",
    "df_currency['Brl'] = s1"
   ]
  },
  {
   "cell_type": "markdown",
   "metadata": {},
   "source": [
    "Converting from str to np.float64"
   ]
  },
  {
   "cell_type": "code",
   "execution_count": 9,
   "metadata": {},
   "outputs": [],
   "source": [
    "df_currency['Usd'] = pd.to_numeric(df_currency['Usd'])\n",
    "df_currency['Eur'] = pd.to_numeric(df_currency['Eur'])\n",
    "df_currency['Cny'] = pd.to_numeric(df_currency['Cny'])\n",
    "df_currency['Krw'] = pd.to_numeric(df_currency['Krw'])\n",
    "df_currency['Brl'] = pd.to_numeric(df_currency['Brl'])"
   ]
  },
  {
   "cell_type": "markdown",
   "metadata": {},
   "source": [
    "Converting date and time column to one column"
   ]
  },
  {
   "cell_type": "code",
   "execution_count": 10,
   "metadata": {},
   "outputs": [],
   "source": [
    "s1 = (df_currency['date']+' - '+df_currency['time'])\n",
    "\n",
    "#altering format\n",
    "s1 = pd.to_datetime(s1, infer_datetime_format=True) \n",
    "\n",
    "#removing columns\n",
    "df_currency = df_currency.drop(['date', 'time'], axis=1)\n",
    "\n",
    "# add new column\n",
    "df_currency['date'] = s1\n",
    "\n",
    "#reordering colmuns\n",
    "df_currency = df_currency[['date','Usd', 'Eur', 'Cny', 'Krw', 'Brl']]"
   ]
  },
  {
   "cell_type": "markdown",
   "metadata": {},
   "source": [
    "### Putting wowtoken at the same level of rows"
   ]
  },
  {
   "cell_type": "code",
   "execution_count": 11,
   "metadata": {
    "scrolled": true
   },
   "outputs": [],
   "source": [
    "diff = df_currency['date'][0] - df_wowtoken['date'][0]\n",
    "            # 72 rows / day + 3 rows/ hour\n",
    "registers = diff.days*72 + (int)(diff.seconds/60/20)\n",
    "df_wowtoken = df_wowtoken[registers-1:]\n",
    "\n",
    "# Reset index and drop new column\n",
    "df_wowtoken.reset_index(inplace=True)\n",
    "df_wowtoken.drop('index', axis=1, inplace=True)"
   ]
  },
  {
   "cell_type": "markdown",
   "metadata": {},
   "source": [
    "Filling NA values with method scalar"
   ]
  },
  {
   "cell_type": "code",
   "execution_count": 12,
   "metadata": {
    "scrolled": true
   },
   "outputs": [
    {
     "data": {
      "text/html": [
       "<div>\n",
       "<style scoped>\n",
       "    .dataframe tbody tr th:only-of-type {\n",
       "        vertical-align: middle;\n",
       "    }\n",
       "\n",
       "    .dataframe tbody tr th {\n",
       "        vertical-align: top;\n",
       "    }\n",
       "\n",
       "    .dataframe thead th {\n",
       "        text-align: right;\n",
       "    }\n",
       "</style>\n",
       "<table border=\"1\" class=\"dataframe\">\n",
       "  <thead>\n",
       "    <tr style=\"text-align: right;\">\n",
       "      <th></th>\n",
       "      <th>date</th>\n",
       "      <th>Us</th>\n",
       "      <th>Eu</th>\n",
       "      <th>Ch</th>\n",
       "      <th>Kr</th>\n",
       "      <th>Tw</th>\n",
       "    </tr>\n",
       "  </thead>\n",
       "  <tbody>\n",
       "  </tbody>\n",
       "</table>\n",
       "</div>"
      ],
      "text/plain": [
       "Empty DataFrame\n",
       "Columns: [date, Us, Eu, Ch, Kr, Tw]\n",
       "Index: []"
      ]
     },
     "execution_count": 12,
     "metadata": {},
     "output_type": "execute_result"
    }
   ],
   "source": [
    "df_wowtoken = df_wowtoken.fillna(method='pad',axis=0)\n",
    "df_wowtoken[df_wowtoken.isna().any(axis=1)]"
   ]
  },
  {
   "cell_type": "markdown",
   "metadata": {},
   "source": [
    "Summary"
   ]
  },
  {
   "cell_type": "code",
   "execution_count": 13,
   "metadata": {
    "tags": []
   },
   "outputs": [
    {
     "name": "stdout",
     "output_type": "stream",
     "text": [
      "\t Wowtoken\n",
      "start: 2019-03-27 16:20:02\n",
      "end:   2020-07-27 18:00:01\n",
      "len:   34938\n",
      "days:  485\n",
      "hours: 6\n",
      "min:   0\n",
      "\n",
      "\t Currency\n",
      "start: 2019-03-27 14:40:02\n",
      "end:   2020-07-27 18:00:03\n",
      "len:   34938\n",
      "days:  485\n",
      "hours: 6\n",
      "min:   0\n"
     ]
    }
   ],
   "source": [
    "print('\\t Wowtoken')\n",
    "print('start:',df_wowtoken['date'][0])\n",
    "print('end:  ',df_wowtoken['date'][df_wowtoken['date'].size-1])\n",
    "print('len:  ',df_wowtoken['date'].size)\n",
    "print('days: ',(int)(df_wowtoken['date'].size/72))\n",
    "print('hours:',(int)(df_wowtoken['date'].size%72*20/60))\n",
    "print('min:  ',df_wowtoken['date'].size%72*20%60)\n",
    "\n",
    "print('\\n\\t Currency')\n",
    "print('start:',df_currency['date'][0])\n",
    "print('end:  ',df_currency['date'][df_currency['date'].size-1])\n",
    "print('len:  ',df_currency['date'].size)\n",
    "print('days: ',(int)(df_currency['date'].size/72))\n",
    "print('hours:',(int)(df_currency['date'].size%72*20/60))\n",
    "print('min:  ',df_currency['date'].size%72*20%60)"
   ]
  },
  {
   "cell_type": "markdown",
   "metadata": {},
   "source": [
    "## Sorting diary"
   ]
  },
  {
   "cell_type": "markdown",
   "metadata": {},
   "source": [
    "## Wowtoken plotting and analysing"
   ]
  },
  {
   "cell_type": "code",
   "execution_count": 14,
   "metadata": {
    "scrolled": false
   },
   "outputs": [
    {
     "data": {
      "image/png": "[encoded data removed]",
      "text/plain": [
       "<Figure size 432x288 with 1 Axes>"
      ]
     },
     "metadata": {
      "needs_background": "light"
     },
     "output_type": "display_data"
    },
    {
     "data": {
      "text/html": [
       "<div>\n",
       "<style scoped>\n",
       "    .dataframe tbody tr th:only-of-type {\n",
       "        vertical-align: middle;\n",
       "    }\n",
       "\n",
       "    .dataframe tbody tr th {\n",
       "        vertical-align: top;\n",
       "    }\n",
       "\n",
       "    .dataframe thead th {\n",
       "        text-align: right;\n",
       "    }\n",
       "</style>\n",
       "<table border=\"1\" class=\"dataframe\">\n",
       "  <thead>\n",
       "    <tr style=\"text-align: right;\">\n",
       "      <th></th>\n",
       "      <th>date</th>\n",
       "      <th>Us</th>\n",
       "      <th>Eu</th>\n",
       "      <th>Ch</th>\n",
       "      <th>Kr</th>\n",
       "      <th>Tw</th>\n",
       "    </tr>\n",
       "  </thead>\n",
       "  <tbody>\n",
       "    <tr>\n",
       "      <th>0</th>\n",
       "      <td>2019-03-27 16:20:02</td>\n",
       "      <td>119.502</td>\n",
       "      <td>177.184</td>\n",
       "      <td>189.161</td>\n",
       "      <td>245.010</td>\n",
       "      <td>268.999</td>\n",
       "    </tr>\n",
       "    <tr>\n",
       "      <th>1</th>\n",
       "      <td>2019-03-27 16:40:02</td>\n",
       "      <td>119.374</td>\n",
       "      <td>176.847</td>\n",
       "      <td>188.594</td>\n",
       "      <td>242.577</td>\n",
       "      <td>267.811</td>\n",
       "    </tr>\n",
       "    <tr>\n",
       "      <th>2</th>\n",
       "      <td>2019-03-27 17:00:01</td>\n",
       "      <td>119.307</td>\n",
       "      <td>176.893</td>\n",
       "      <td>188.267</td>\n",
       "      <td>240.151</td>\n",
       "      <td>267.006</td>\n",
       "    </tr>\n",
       "    <tr>\n",
       "      <th>3</th>\n",
       "      <td>2019-03-27 17:20:01</td>\n",
       "      <td>119.054</td>\n",
       "      <td>176.819</td>\n",
       "      <td>188.023</td>\n",
       "      <td>237.749</td>\n",
       "      <td>265.981</td>\n",
       "    </tr>\n",
       "    <tr>\n",
       "      <th>4</th>\n",
       "      <td>2019-03-27 17:40:01</td>\n",
       "      <td>118.718</td>\n",
       "      <td>176.819</td>\n",
       "      <td>187.576</td>\n",
       "      <td>235.372</td>\n",
       "      <td>265.403</td>\n",
       "    </tr>\n",
       "    <tr>\n",
       "      <th>...</th>\n",
       "      <td>...</td>\n",
       "      <td>...</td>\n",
       "      <td>...</td>\n",
       "      <td>...</td>\n",
       "      <td>...</td>\n",
       "      <td>...</td>\n",
       "    </tr>\n",
       "    <tr>\n",
       "      <th>34933</th>\n",
       "      <td>2020-07-27 16:40:01</td>\n",
       "      <td>120.588</td>\n",
       "      <td>178.665</td>\n",
       "      <td>377.797</td>\n",
       "      <td>207.277</td>\n",
       "      <td>232.029</td>\n",
       "    </tr>\n",
       "    <tr>\n",
       "      <th>34934</th>\n",
       "      <td>2020-07-27 17:00:01</td>\n",
       "      <td>120.759</td>\n",
       "      <td>178.118</td>\n",
       "      <td>380.415</td>\n",
       "      <td>206.931</td>\n",
       "      <td>230.654</td>\n",
       "    </tr>\n",
       "    <tr>\n",
       "      <th>34935</th>\n",
       "      <td>2020-07-27 17:20:01</td>\n",
       "      <td>121.072</td>\n",
       "      <td>177.635</td>\n",
       "      <td>381.321</td>\n",
       "      <td>206.137</td>\n",
       "      <td>229.268</td>\n",
       "    </tr>\n",
       "    <tr>\n",
       "      <th>34936</th>\n",
       "      <td>2020-07-27 17:40:02</td>\n",
       "      <td>121.333</td>\n",
       "      <td>177.227</td>\n",
       "      <td>381.375</td>\n",
       "      <td>205.551</td>\n",
       "      <td>228.765</td>\n",
       "    </tr>\n",
       "    <tr>\n",
       "      <th>34937</th>\n",
       "      <td>2020-07-27 18:00:01</td>\n",
       "      <td>121.428</td>\n",
       "      <td>176.977</td>\n",
       "      <td>380.898</td>\n",
       "      <td>205.619</td>\n",
       "      <td>228.263</td>\n",
       "    </tr>\n",
       "  </tbody>\n",
       "</table>\n",
       "<p>34938 rows × 6 columns</p>\n",
       "</div>"
      ],
      "text/plain": [
       "                     date       Us       Eu       Ch       Kr       Tw\n",
       "0     2019-03-27 16:20:02  119.502  177.184  189.161  245.010  268.999\n",
       "1     2019-03-27 16:40:02  119.374  176.847  188.594  242.577  267.811\n",
       "2     2019-03-27 17:00:01  119.307  176.893  188.267  240.151  267.006\n",
       "3     2019-03-27 17:20:01  119.054  176.819  188.023  237.749  265.981\n",
       "4     2019-03-27 17:40:01  118.718  176.819  187.576  235.372  265.403\n",
       "...                   ...      ...      ...      ...      ...      ...\n",
       "34933 2020-07-27 16:40:01  120.588  178.665  377.797  207.277  232.029\n",
       "34934 2020-07-27 17:00:01  120.759  178.118  380.415  206.931  230.654\n",
       "34935 2020-07-27 17:20:01  121.072  177.635  381.321  206.137  229.268\n",
       "34936 2020-07-27 17:40:02  121.333  177.227  381.375  205.551  228.765\n",
       "34937 2020-07-27 18:00:01  121.428  176.977  380.898  205.619  228.263\n",
       "\n",
       "[34938 rows x 6 columns]"
      ]
     },
     "execution_count": 14,
     "metadata": {},
     "output_type": "execute_result"
    }
   ],
   "source": [
    "plt.plot(df_wowtoken['date'], df_wowtoken['Eu'])\n",
    "plt.grid(True)\n",
    "plt.show()\n",
    "df_wowtoken"
   ]
  },
  {
   "cell_type": "markdown",
   "metadata": {},
   "source": [
    "## Currency plotting and analysing"
   ]
  },
  {
   "cell_type": "code",
   "execution_count": 15,
   "metadata": {},
   "outputs": [
    {
     "data": {
      "image/png": "[encoded data removed]",
      "text/plain": [
       "<Figure size 432x288 with 1 Axes>"
      ]
     },
     "metadata": {
      "needs_background": "light"
     },
     "output_type": "display_data"
    },
    {
     "data": {
      "text/html": [
       "<div>\n",
       "<style scoped>\n",
       "    .dataframe tbody tr th:only-of-type {\n",
       "        vertical-align: middle;\n",
       "    }\n",
       "\n",
       "    .dataframe tbody tr th {\n",
       "        vertical-align: top;\n",
       "    }\n",
       "\n",
       "    .dataframe thead th {\n",
       "        text-align: right;\n",
       "    }\n",
       "</style>\n",
       "<table border=\"1\" class=\"dataframe\">\n",
       "  <thead>\n",
       "    <tr style=\"text-align: right;\">\n",
       "      <th></th>\n",
       "      <th>date</th>\n",
       "      <th>Usd</th>\n",
       "      <th>Eur</th>\n",
       "      <th>Cny</th>\n",
       "      <th>Krw</th>\n",
       "      <th>Brl</th>\n",
       "    </tr>\n",
       "  </thead>\n",
       "  <tbody>\n",
       "    <tr>\n",
       "      <th>0</th>\n",
       "      <td>2019-03-27 14:40:02</td>\n",
       "      <td>1.0</td>\n",
       "      <td>0.885661</td>\n",
       "      <td>6.714906</td>\n",
       "      <td>1134.452219</td>\n",
       "      <td>3.904317</td>\n",
       "    </tr>\n",
       "    <tr>\n",
       "      <th>1</th>\n",
       "      <td>2019-03-27 15:00:01</td>\n",
       "      <td>1.0</td>\n",
       "      <td>0.885661</td>\n",
       "      <td>6.714906</td>\n",
       "      <td>1134.452219</td>\n",
       "      <td>3.904317</td>\n",
       "    </tr>\n",
       "    <tr>\n",
       "      <th>2</th>\n",
       "      <td>2019-03-27 15:20:02</td>\n",
       "      <td>1.0</td>\n",
       "      <td>0.888021</td>\n",
       "      <td>6.724891</td>\n",
       "      <td>1137.554391</td>\n",
       "      <td>3.904317</td>\n",
       "    </tr>\n",
       "    <tr>\n",
       "      <th>3</th>\n",
       "      <td>2019-03-27 15:40:02</td>\n",
       "      <td>1.0</td>\n",
       "      <td>0.888021</td>\n",
       "      <td>6.724891</td>\n",
       "      <td>1137.554391</td>\n",
       "      <td>3.904317</td>\n",
       "    </tr>\n",
       "    <tr>\n",
       "      <th>4</th>\n",
       "      <td>2019-03-27 16:00:02</td>\n",
       "      <td>1.0</td>\n",
       "      <td>0.888021</td>\n",
       "      <td>6.724891</td>\n",
       "      <td>1137.554391</td>\n",
       "      <td>3.904317</td>\n",
       "    </tr>\n",
       "    <tr>\n",
       "      <th>...</th>\n",
       "      <td>...</td>\n",
       "      <td>...</td>\n",
       "      <td>...</td>\n",
       "      <td>...</td>\n",
       "      <td>...</td>\n",
       "      <td>...</td>\n",
       "    </tr>\n",
       "    <tr>\n",
       "      <th>34933</th>\n",
       "      <td>2020-07-27 16:40:04</td>\n",
       "      <td>1.0</td>\n",
       "      <td>0.850340</td>\n",
       "      <td>7.002041</td>\n",
       "      <td>1196.556122</td>\n",
       "      <td>5.180187</td>\n",
       "    </tr>\n",
       "    <tr>\n",
       "      <th>34934</th>\n",
       "      <td>2020-07-27 17:00:03</td>\n",
       "      <td>1.0</td>\n",
       "      <td>0.850340</td>\n",
       "      <td>7.002041</td>\n",
       "      <td>1196.556122</td>\n",
       "      <td>5.180187</td>\n",
       "    </tr>\n",
       "    <tr>\n",
       "      <th>34935</th>\n",
       "      <td>2020-07-27 17:20:04</td>\n",
       "      <td>1.0</td>\n",
       "      <td>0.850340</td>\n",
       "      <td>7.002041</td>\n",
       "      <td>1196.556122</td>\n",
       "      <td>5.180187</td>\n",
       "    </tr>\n",
       "    <tr>\n",
       "      <th>34936</th>\n",
       "      <td>2020-07-27 17:40:05</td>\n",
       "      <td>1.0</td>\n",
       "      <td>0.850340</td>\n",
       "      <td>7.002041</td>\n",
       "      <td>1196.556122</td>\n",
       "      <td>5.180187</td>\n",
       "    </tr>\n",
       "    <tr>\n",
       "      <th>34937</th>\n",
       "      <td>2020-07-27 18:00:03</td>\n",
       "      <td>1.0</td>\n",
       "      <td>0.850340</td>\n",
       "      <td>7.002041</td>\n",
       "      <td>1196.556122</td>\n",
       "      <td>5.180187</td>\n",
       "    </tr>\n",
       "  </tbody>\n",
       "</table>\n",
       "<p>34938 rows × 6 columns</p>\n",
       "</div>"
      ],
      "text/plain": [
       "                     date  Usd       Eur       Cny          Krw       Brl\n",
       "0     2019-03-27 14:40:02  1.0  0.885661  6.714906  1134.452219  3.904317\n",
       "1     2019-03-27 15:00:01  1.0  0.885661  6.714906  1134.452219  3.904317\n",
       "2     2019-03-27 15:20:02  1.0  0.888021  6.724891  1137.554391  3.904317\n",
       "3     2019-03-27 15:40:02  1.0  0.888021  6.724891  1137.554391  3.904317\n",
       "4     2019-03-27 16:00:02  1.0  0.888021  6.724891  1137.554391  3.904317\n",
       "...                   ...  ...       ...       ...          ...       ...\n",
       "34933 2020-07-27 16:40:04  1.0  0.850340  7.002041  1196.556122  5.180187\n",
       "34934 2020-07-27 17:00:03  1.0  0.850340  7.002041  1196.556122  5.180187\n",
       "34935 2020-07-27 17:20:04  1.0  0.850340  7.002041  1196.556122  5.180187\n",
       "34936 2020-07-27 17:40:05  1.0  0.850340  7.002041  1196.556122  5.180187\n",
       "34937 2020-07-27 18:00:03  1.0  0.850340  7.002041  1196.556122  5.180187\n",
       "\n",
       "[34938 rows x 6 columns]"
      ]
     },
     "execution_count": 15,
     "metadata": {},
     "output_type": "execute_result"
    }
   ],
   "source": [
    "plt.plot(df_currency['date'], df_currency['Eur'])\n",
    "plt.grid(True)\n",
    "plt.show()\n",
    "df_currency"
   ]
  },
  {
   "cell_type": "code",
   "execution_count": 16,
   "metadata": {},
   "outputs": [],
   "source": [
    "df_wowtoken.to_csv('df_wowtoken.csv')\n",
    "df_currency.to_csv('df_currency.csv')"
   ]
  }
 ],
 "metadata": {
  "kernelspec": {
   "display_name": "Python 3",
   "language": "python",
   "name": "python3"
  },
  "language_info": {
   "codemirror_mode": {
    "name": "ipython",
    "version": 3
   },
   "file_extension": ".py",
   "mimetype": "text/x-python",
   "name": "python",
   "nbconvert_exporter": "python",
   "pygments_lexer": "ipython3",
   "version": "3.8.5"
  }
 },
 "nbformat": 4,
 "nbformat_minor": 4
}
