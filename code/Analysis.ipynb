{
 "cells": [
  {
   "cell_type": "markdown",
   "metadata": {},
   "source": [
    "Tudo da vida segue uma distribuição gaussiana.\n",
    "-V.C.A Marcelo"
   ]
  },
  {
   "cell_type": "markdown",
   "metadata": {},
   "source": [
    "### Libraries"
   ]
  },
  {
   "cell_type": "code",
   "execution_count": null,
   "metadata": {},
   "outputs": [],
   "source": [
    "import pandas as pd\n",
    "import numpy as np\n",
    "from custom_metrics import regression_metrics"
   ]
  },
  {
   "cell_type": "markdown",
   "metadata": {},
   "source": [
    "### Functions"
   ]
  },
  {
   "cell_type": "code",
   "execution_count": null,
   "metadata": {},
   "outputs": [],
   "source": [
    "def order_by_x(x, y):\n",
    "    # developed by segfault\n",
    "    lst = list(zip(x_train, y_train))\n",
    "    lst_ordered = sorted(lst)\n",
    "    xt, yt = list(zip(*lst_ordered))\n",
    "    xt = list(xt)\n",
    "    yt = list(yt)\n",
    "    \n",
    "    return(xt, yt)"
   ]
  },
  {
   "cell_type": "markdown",
   "metadata": {},
   "source": [
    "### Reading dataframes"
   ]
  },
  {
   "cell_type": "code",
   "execution_count": null,
   "metadata": {},
   "outputs": [],
   "source": [
    "df_gold = pd.read_csv('../data/d_kilo_gold_price_in_currency.csv')\n",
    "df_gold['date'] = pd.to_datetime(df_gold['date'], infer_datetime_format=True)"
   ]
  },
  {
   "cell_type": "markdown",
   "metadata": {},
   "source": [
    "### Configuration"
   ]
  },
  {
   "cell_type": "code",
   "execution_count": null,
   "metadata": {},
   "outputs": [],
   "source": [
    "from matplotlib.pyplot import figure\n",
    "figure(num=None, figsize=(16, 12), dpi=80, facecolor='w', edgecolor='k')\n",
    "\n",
    "COLOR_DATA_TEST=\"blue\"\n",
    "COLOR_DATA_PRED=\"red\""
   ]
  },
  {
   "cell_type": "code",
   "execution_count": null,
   "metadata": {
    "scrolled": true
   },
   "outputs": [],
   "source": [
    "from sklearn.model_selection import train_test_split\n",
    "\n",
    "data_x = np.arange(0, len(df_gold['date'])).reshape(-1,1)\n",
    "data_y = np.array(df_gold['China'])\n",
    "\n",
    "# nao pode embaralhar os dados senao deixa de ser uma serie temporal!\n",
    "x_train, x_test, y_train, y_test = train_test_split(data_x, \n",
    "                                                    data_y, \n",
    "                                                    shuffle=False,\n",
    "                                                    test_size=0.20)\n",
    "#x_test = x_test - x_test[0]\n",
    "print(\"Train length:\", len(x_train))\n",
    "print(\"Test  length:\", len(x_test))"
   ]
  },
  {
   "cell_type": "markdown",
   "metadata": {},
   "source": [
    "### Visualization\n"
   ]
  },
  {
   "cell_type": "code",
   "execution_count": null,
   "metadata": {},
   "outputs": [],
   "source": [
    "import matplotlib.pyplot as plt\n",
    "plt.plot(data_x, data_y)"
   ]
  },
  {
   "cell_type": "markdown",
   "metadata": {},
   "source": [
    "## Linear Regression\n",
    "\n",
    "[source](https://scikit-learn.org/stable/auto_examples/linear_model/plot_ols.html#sphx-glr-auto-examples-linear-model-plot-ols-py)"
   ]
  },
  {
   "cell_type": "code",
   "execution_count": null,
   "metadata": {
    "scrolled": false
   },
   "outputs": [],
   "source": [
    "from sklearn import linear_model\n",
    "import matplotlib.pyplot as plt\n",
    "\n",
    "model = linear_model.LinearRegression()\n",
    "model.fit(x_train, y_train.reshape(-1,1))\n",
    "\n",
    "print(\"Coefficient: \", model.coef_[0][0])\n",
    "\n",
    "y_pred = model.predict(x_test)\n",
    "\n",
    "plt.scatter(x_test, y_test, color=COLOR_DATA_TEST)\n",
    "plt.scatter(x_test, y_pred, color=COLOR_DATA_PRED)\n",
    "plt.show()\n",
    "\n",
    "regression_metrics(y_test, y_pred, verbose=True)"
   ]
  },
  {
   "cell_type": "markdown",
   "metadata": {},
   "source": [
    "## Polynomial Regression\n",
    "\n",
    "[source](https://towardsdatascience.com/polynomial-regression-with-scikit-learn-what-you-should-know-bed9d3296f2)"
   ]
  },
  {
   "cell_type": "code",
   "execution_count": null,
   "metadata": {},
   "outputs": [],
   "source": [
    "from sklearn.preprocessing import PolynomialFeatures\n",
    "from sklearn.pipeline import make_pipeline\n",
    "from sklearn.linear_model import LinearRegression\n",
    "\n",
    "best_degree = None\n",
    "best_r2 = float('-inf')\n",
    "\n",
    "for degree in range(2,16):\n",
    "    \n",
    "    poly_reg = make_pipeline(PolynomialFeatures(degree),LinearRegression())\n",
    "    poly_reg.fit(x_train, y_train)\n",
    "    y_pred = poly_reg.predict(x_test)\n",
    "    \n",
    "    r2 = regression_metrics(y_test, y_pred)\n",
    "    \n",
    "    if r2 > best_r2:\n",
    "        best_r2 = r2\n",
    "        best_degree = degree\n",
    "        print('Best r2 so far = ', best_r2, '\\t@ degree = ', best_degree)\n",
    "\n",
    "poly_reg = make_pipeline(PolynomialFeatures(best_degree),LinearRegression())\n",
    "poly_reg.fit(x_train, y_train)\n",
    "y_pred = poly_reg.predict(x_test)\n",
    "\n",
    "plt.figure()\n",
    "plt.scatter(x_test, y_test, color=COLOR_DATA_TEST)\n",
    "plt.scatter(x_test, y_pred,color=COLOR_DATA_PRED)\n",
    "plt.title(('Polynomial Regression', 'degree', str(best_degree)))\n",
    "plt.show()\n",
    "\n",
    "regression_metrics(y_test, y_pred, verbose=True)"
   ]
  },
  {
   "cell_type": "markdown",
   "metadata": {},
   "source": [
    "## Support Vector Regression\n",
    "\n",
    "[source](https://scikit-learn.org/stable/modules/generated/sklearn.svm.SVR.html)"
   ]
  },
  {
   "cell_type": "code",
   "execution_count": null,
   "metadata": {
    "scrolled": false
   },
   "outputs": [],
   "source": [
    "from sklearn.svm import SVR\n",
    "from sklearn.pipeline import make_pipeline\n",
    "from sklearn.preprocessing import StandardScaler\n",
    "from sklearn.model_selection import GridSearchCV\n",
    "\n",
    "parameters = { 'C'       : np.logspace(-12, 1, num=14, base=10.0), \n",
    "               'epsilon' : np.logspace(-12, 1, num=14, base=10.0),\n",
    "               'gamma'   : ['scale', 'auto'],\n",
    "               'kernel'  : ['rbf', 'sigmoid'] }\n",
    "\n",
    "# https://stackoverflow.com/a/43366811/2679529\n",
    "clf = make_pipeline(StandardScaler(), \n",
    "                    GridSearchCV(SVR(),\n",
    "                                 param_grid=parameters,\n",
    "                                 cv=5,\n",
    "                                 n_jobs=4,\n",
    "                                 refit=True,\n",
    "                                 scoring='r2',\n",
    "                                 verbose=1))\n",
    "clf.fit(x_train, y_train)\n",
    "\n",
    "# https://scikit-learn.org/stable/modules/compose.html#nested-parameters\n",
    "best_c = clf.get_params()['gridsearchcv__estimator__C']\n",
    "best_epsilon = clf.get_params()['gridsearchcv__estimator__epsilon']\n",
    "best_gamma = clf.get_params()['gridsearchcv__estimator__gamma']\n",
    "best_kernel = clf.get_params()['gridsearchcv__estimator__kernel']\n",
    "print('C =', best_c, 'epsilon =', best_epsilon, 'gamma = ', best_gamma, 'kernel =', best_kernel)\n",
    "\n",
    "y_pred = clf.predict(x_test)\n",
    "\n",
    "r2 = regression_metrics(y_test, y_pred)\n",
    "        \n",
    "plt.figure()\n",
    "plt.scatter(x_test, y_test, color=COLOR_DATA_TEST)\n",
    "plt.scatter(x_test, y_pred,color=COLOR_DATA_PRED)\n",
    "plt.title(('Support Vector Regression', \n",
    "           'C', best_c, 'epsilon', best_epsilon, 'gamma', best_gamma, 'kernel', best_kernel))\n",
    "\n",
    "plt.show()\n",
    "\n",
    "regression_metrics(y_test, y_pred, verbose=True)"
   ]
  },
  {
   "cell_type": "markdown",
   "metadata": {},
   "source": [
    "## Multi-layer Perceptron Regressor\n",
    "\n",
    "[source](https://scikit-learn.org/stable/modules/generated/sklearn.neural_network.MLPRegressor.html#sklearn.neural_network.MLPRegressor)"
   ]
  },
  {
   "cell_type": "code",
   "execution_count": null,
   "metadata": {},
   "outputs": [],
   "source": [
    "from sklearn.neural_network import MLPRegressor\n",
    "\n",
    "parameters = { 'activation'         : ['identity', 'logistic', 'tanh', 'relu'], \n",
    "               'hidden_layer_sizes' : list((i,i) for i in np.linspace(100,1000,19,dtype='int64')),\n",
    "               'learning_rate'      : ['constant', 'invscaling', 'adaptive'] }\n",
    "\n",
    "# https://stackoverflow.com/a/43366811/2679529\n",
    "clf = make_pipeline(StandardScaler(), \n",
    "                    GridSearchCV(MLPRegressor(),\n",
    "                                 param_grid=parameters,\n",
    "                                 cv=5,\n",
    "                                 n_jobs=4,\n",
    "                                 refit=True,\n",
    "                                 scoring='r2',\n",
    "                                 verbose=1))\n",
    "\n",
    "clf.fit(x_train, y_train)\n",
    "\n",
    "# https://scikit-learn.org/stable/modules/compose.html#nested-parameters\n",
    "best_activation = clf.get_params()['gridsearchcv__estimator__activation']\n",
    "best_hidden_layer_sizes = clf.get_params()['gridsearchcv__estimator__hidden_layer_sizes']\n",
    "best_learning_rate = clf.get_params()['gridsearchcv__estimator__learning_rate']\n",
    "print('activation =', best_activation, \n",
    "      'hidden_layer_sizes =', best_hidden_layer_sizes, \n",
    "      'learning_rate =', best_learning_rate)\n",
    "\n",
    "y_pred = clf.predict(x_test)\n",
    "\n",
    "r2 = regression_metrics(y_test, y_pred)\n",
    "\n",
    "plt.scatter(x_test, y_test, color=COLOR_DATA_TEST)\n",
    "plt.scatter(x_test, y_pred, color=COLOR_DATA_PRED)\n",
    "plt.title(('Multi-layer Perceptron Regressor', \n",
    "           'activation', best_activation, \n",
    "           'hidden_layer_sizes', best_hidden_layer_sizes, \n",
    "           'learning_rate', best_learning_rate))\n",
    "plt.show()\n",
    "\n",
    "regression_metrics(y_test, y_pred, verbose=True)"
   ]
  },
  {
   "cell_type": "markdown",
   "metadata": {},
   "source": [
    "## Prophet\n",
    "\n",
    "[source](https://facebook.github.io/prophet/docs/quick_start.html)"
   ]
  },
  {
   "cell_type": "code",
   "execution_count": null,
   "metadata": {},
   "outputs": [],
   "source": [
    "df_gold = pd.read_csv('../data/d_kilo_gold_price_in_currency.csv')\n",
    "df_gold['date'] = pd.to_datetime(df_gold['date'], infer_datetime_format=True)\n",
    "\n",
    "from sklearn.model_selection import train_test_split\n",
    "\n",
    "data_x = np.array(df_gold['date'])\n",
    "data_y = np.array(df_gold['China'])\n",
    "\n",
    "x_train, x_test, y_train, y_test = train_test_split(data_x, \n",
    "                                                    data_y, \n",
    "                                                    shuffle=False,\n",
    "                                                    test_size=0.50)\n",
    "print(\"Train length:\", len(x_train))\n",
    "print(\"Test  length:\", len(x_test))\n",
    "\n",
    "import pandas as pd\n",
    "from fbprophet import Prophet\n",
    "\n",
    "df = pd.DataFrame(list(zip(x_train, y_train)), columns =['ds', 'y']) \n",
    "m = Prophet()\n",
    "m.fit(df)\n",
    "\n",
    "future = m.make_future_dataframe(periods=365)\n",
    "future.tail()\n",
    "forecast = m.predict(future)\n",
    "forecast[['ds', 'yhat', 'yhat_lower', 'yhat_upper']].tail()\n",
    "fig1 = m.plot(forecast)"
   ]
  },
  {
   "cell_type": "code",
   "execution_count": null,
   "metadata": {},
   "outputs": [],
   "source": [
    "import pystan\n",
    "model_code = 'parameters {real y;} model {y ~ normal(0,1);}'\n",
    "model = pystan.StanModel(model_code=model_code)  # this will take a minute\n",
    "y = model.sampling(n_jobs=1).extract()['y']\n",
    "y.mean()  # should be close to 0"
   ]
  }
 ],
 "metadata": {
  "kernelspec": {
   "display_name": "Python 3",
   "language": "python",
   "name": "python3"
  },
  "language_info": {
   "codemirror_mode": {
    "name": "ipython",
    "version": 3
   },
   "file_extension": ".py",
   "mimetype": "text/x-python",
   "name": "python",
   "nbconvert_exporter": "python",
   "pygments_lexer": "ipython3",
   "version": "3.7.6"
  }
 },
 "nbformat": 4,
 "nbformat_minor": 4
}
