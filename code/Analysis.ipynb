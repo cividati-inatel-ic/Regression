{
 "cells": [
  {
   "cell_type": "markdown",
   "metadata": {},
   "source": [
    "Tudo da vida segue uma distribuição gaussiana.\n",
    "-V.C.A Marcelo"
   ]
  },
  {
   "cell_type": "markdown",
   "metadata": {},
   "source": [
    "### Libraries"
   ]
  },
  {
   "cell_type": "code",
   "execution_count": 1,
   "metadata": {},
   "outputs": [],
   "source": [
    "import pandas as pd\n",
    "import numpy as np\n",
    "from custom_metrics import regression_metrics"
   ]
  },
  {
   "cell_type": "markdown",
   "metadata": {},
   "source": [
    "### Functions"
   ]
  },
  {
   "cell_type": "code",
   "execution_count": 2,
   "metadata": {},
   "outputs": [],
   "source": [
    "def order_by_x(x, y):\n",
    "    # developed by segfault\n",
    "    lst = list(zip(x_train, y_train))\n",
    "    lst_ordered = sorted(lst)\n",
    "    xt, yt = list(zip(*lst_ordered))\n",
    "    xt = list(xt)\n",
    "    yt = list(yt)\n",
    "    \n",
    "    return(xt, yt)"
   ]
  },
  {
   "cell_type": "markdown",
   "metadata": {},
   "source": [
    "Reading dataframes"
   ]
  },
  {
   "cell_type": "code",
   "execution_count": 3,
   "metadata": {},
   "outputs": [],
   "source": [
    "df_gold = pd.read_csv('../data/d_kilo_gold_price_in_currency.csv')\n",
    "df_gold['date'] = pd.to_datetime(df_gold['date'], infer_datetime_format=True)"
   ]
  },
  {
   "cell_type": "markdown",
   "metadata": {},
   "source": [
    "### Configuration"
   ]
  },
  {
   "cell_type": "code",
   "execution_count": 4,
   "metadata": {},
   "outputs": [
    {
     "data": {
      "text/plain": [
       "<Figure size 1280x960 with 0 Axes>"
      ]
     },
     "metadata": {},
     "output_type": "display_data"
    }
   ],
   "source": [
    "from matplotlib.pyplot import figure\n",
    "figure(num=None, figsize=(16, 12), dpi=80, facecolor='w', edgecolor='k')\n",
    "\n",
    "COLOR_DATA_TEST=\"blue\"\n",
    "COLOR_DATA_PRED=\"red\""
   ]
  },
  {
   "cell_type": "code",
   "execution_count": 5,
   "metadata": {
    "scrolled": true
   },
   "outputs": [
    {
     "name": "stdout",
     "output_type": "stream",
     "text": [
      "Train length: 183\n",
      "Test  length: 183\n"
     ]
    }
   ],
   "source": [
    "from sklearn.model_selection import train_test_split\n",
    "\n",
    "data_x = np.arange(0, len(df_gold['date'])).reshape(-1,1)\n",
    "data_y = np.array(df_gold['China'])\n",
    "\n",
    "x_train, x_test, y_train, y_test = train_test_split(data_x, \n",
    "                                                    data_y, \n",
    "                                                    test_size=0.50)\n",
    "print(\"Train length:\", len(x_train))\n",
    "print(\"Test  length:\", len(x_test))"
   ]
  },
  {
   "cell_type": "markdown",
   "metadata": {},
   "source": [
    "### Visualization\n"
   ]
  },
  {
   "cell_type": "code",
   "execution_count": 6,
   "metadata": {},
   "outputs": [
    {
     "data": {
      "text/plain": [
       "[<matplotlib.lines.Line2D at 0x1118e9f7788>]"
      ]
     },
     "execution_count": 6,
     "metadata": {},
     "output_type": "execute_result"
    },
    {
     "data": {
      "image/png": "[encoded data removed]",
      "text/plain": [
       "<Figure size 432x288 with 1 Axes>"
      ]
     },
     "metadata": {
      "needs_background": "light"
     },
     "output_type": "display_data"
    }
   ],
   "source": [
    "import matplotlib.pyplot as plt\n",
    "plt.plot(data_x, data_y)"
   ]
  },
  {
   "cell_type": "markdown",
   "metadata": {},
   "source": [
    "## Linear Regression\n",
    "\n",
    "[source](https://scikit-learn.org/stable/auto_examples/linear_model/plot_ols.html#sphx-glr-auto-examples-linear-model-plot-ols-py)"
   ]
  },
  {
   "cell_type": "code",
   "execution_count": 7,
   "metadata": {
    "scrolled": false
   },
   "outputs": [
    {
     "name": "stdout",
     "output_type": "stream",
     "text": [
      "Coeficiente:  -0.00038077480674252604\n"
     ]
    },
    {
     "data": {
      "image/png": "[encoded data removed]",
      "text/plain": [
       "<Figure size 432x288 with 1 Axes>"
      ]
     },
     "metadata": {
      "needs_background": "light"
     },
     "output_type": "display_data"
    },
    {
     "name": "stdout",
     "output_type": "stream",
     "text": [
      "MSE:  0.006638423364084645\n",
      "RMSE: 0.08147652032386168\n",
      "MAE:  0.06857245039308155\n",
      "MAPE: 0.15839486321366067\n",
      "R2:   0.12009886533815828\n"
     ]
    },
    {
     "data": {
      "text/plain": [
       "0.12009886533815828"
      ]
     },
     "execution_count": 7,
     "metadata": {},
     "output_type": "execute_result"
    }
   ],
   "source": [
    "from sklearn import linear_model\n",
    "import matplotlib.pyplot as plt\n",
    "\n",
    "model = linear_model.LinearRegression()\n",
    "model.fit(x_train, y_train.reshape(-1,1))\n",
    "\n",
    "print(\"Coeficiente: \", model.coef_[0][0])\n",
    "\n",
    "y_pred = model.predict(x_test)\n",
    "\n",
    "plt.scatter(x_test, y_test, color=COLOR_DATA_TEST)\n",
    "plt.scatter(x_test, y_pred, color=COLOR_DATA_PRED)\n",
    "plt.show()\n",
    "\n",
    "regression_metrics(y_test, y_pred, verbose=True)"
   ]
  },
  {
   "cell_type": "markdown",
   "metadata": {},
   "source": [
    "## Polynomial Regression\n",
    "\n",
    "[source](https://towardsdatascience.com/polynomial-regression-with-scikit-learn-what-you-should-know-bed9d3296f2)"
   ]
  },
  {
   "cell_type": "code",
   "execution_count": 8,
   "metadata": {},
   "outputs": [
    {
     "data": {
      "image/png": "[encoded data removed]",
      "text/plain": [
       "<Figure size 432x288 with 1 Axes>"
      ]
     },
     "metadata": {
      "needs_background": "light"
     },
     "output_type": "display_data"
    },
    {
     "name": "stdout",
     "output_type": "stream",
     "text": [
      "MSE:  0.001229242369189491\n",
      "RMSE: 0.03506055289337992\n",
      "MAE:  0.026998657078833463\n",
      "MAPE: 0.05181015509801259\n",
      "R2:   0.8370679759178956\n"
     ]
    },
    {
     "data": {
      "text/plain": [
       "0.8370679759178956"
      ]
     },
     "execution_count": 8,
     "metadata": {},
     "output_type": "execute_result"
    }
   ],
   "source": [
    "from sklearn.preprocessing import PolynomialFeatures\n",
    "from sklearn.pipeline import make_pipeline\n",
    "from sklearn.linear_model import LinearRegression\n",
    "\n",
    "degree = 6\n",
    "poly_reg = make_pipeline(PolynomialFeatures(degree),LinearRegression())\n",
    "poly_reg.fit(x_train, y_train)\n",
    "y_pred = poly_reg.predict(x_test)\n",
    "\n",
    "plt.figure()\n",
    "plt.scatter(x_test, y_test, color=COLOR_DATA_TEST)\n",
    "plt.scatter(x_test, y_pred,color=COLOR_DATA_PRED)\n",
    "plt.title(\"Polynomial regression with degree \"+str(degree))\n",
    "plt.show()\n",
    "\n",
    "regression_metrics(y_test, y_pred, verbose=True)"
   ]
  },
  {
   "cell_type": "markdown",
   "metadata": {},
   "source": [
    "## Support Vector Regression\n",
    "\n",
    "[source](https://scikit-learn.org/stable/modules/generated/sklearn.svm.SVR.html)"
   ]
  },
  {
   "cell_type": "code",
   "execution_count": 12,
   "metadata": {
    "scrolled": false
   },
   "outputs": [
    {
     "name": "stdout",
     "output_type": "stream",
     "text": [
      "C = 1.0 epsilon = 0.1\n"
     ]
    },
    {
     "data": {
      "image/png": "[encoded data removed]",
      "text/plain": [
       "<Figure size 432x288 with 1 Axes>"
      ]
     },
     "metadata": {
      "needs_background": "light"
     },
     "output_type": "display_data"
    },
    {
     "name": "stdout",
     "output_type": "stream",
     "text": [
      "MSE:  0.0007847474117316042\n",
      "RMSE: 0.028013343458637784\n",
      "MAE:  0.021149149933954274\n",
      "MAPE: 0.0401868791968642\n",
      "R2:   0.8959843173393637\n"
     ]
    },
    {
     "data": {
      "text/plain": [
       "0.8959843173393637"
      ]
     },
     "execution_count": 12,
     "metadata": {},
     "output_type": "execute_result"
    }
   ],
   "source": [
    "from sklearn.svm import SVR\n",
    "from sklearn.pipeline import make_pipeline\n",
    "from sklearn.preprocessing import StandardScaler\n",
    "from sklearn.model_selection import GridSearchCV\n",
    "\n",
    "parameters = { 'C'      : [2e0, 2e-1, 2e-2, 2e-3, 2e-4, 2e-5, 2e-6], \n",
    "               'epsilon': [1e-0, 1e-1, 1e-2, 1e-3, 1e-4, 1e-5, 1e-6] }\n",
    "\n",
    "# https://stackoverflow.com/a/43366811/2679529\n",
    "clf = make_pipeline(StandardScaler(), \n",
    "                    GridSearchCV(SVR(),\n",
    "                                 param_grid=parameters,\n",
    "                                 cv=5,\n",
    "                                 refit=True))\n",
    "clf.fit(x_train, y_train)\n",
    "\n",
    "# https://scikit-learn.org/stable/modules/compose.html#nested-parameters\n",
    "melhor_c = clf.get_params()['gridsearchcv__estimator__C']\n",
    "melhor_epsilon = clf.get_params()['gridsearchcv__estimator__epsilon']\n",
    "print('C =', melhor_c, 'epsilon =', melhor_epsilon)\n",
    "\n",
    "y_pred = clf.predict(x_test)\n",
    "\n",
    "r2 = regression_metrics(y_test, y_pred)\n",
    "        \n",
    "plt.figure()\n",
    "plt.scatter(x_test, y_test, color=COLOR_DATA_TEST)\n",
    "plt.scatter(x_test, y_pred,color=COLOR_DATA_PRED)\n",
    "plt.title((\"Support Vector Regression - C:\",melhor_c,\" eps:\",melhor_epsilon))\n",
    "plt.show()\n",
    "\n",
    "regression_metrics(y_test, y_pred, verbose=True)"
   ]
  },
  {
   "cell_type": "markdown",
   "metadata": {},
   "source": [
    "## Multi-layer Perceptron regressor\n",
    "\n",
    "[source](https://scikit-learn.org/stable/modules/generated/sklearn.neural_network.MLPRegressor.html#sklearn.neural_network.MLPRegressor)"
   ]
  },
  {
   "cell_type": "code",
   "execution_count": null,
   "metadata": {},
   "outputs": [],
   "source": [
    "from sklearn.neural_network import MLPRegressor\n",
    "\n",
    "\n",
    "#activation_arr=['identity', 'logistic', 'tanh', 'relu']\n",
    "activation_arr=['relu']\n",
    "layer_size_arr=np.linspace(5, 1000, 200, dtype='int64')\n",
    "\n",
    "melhor_activation=None\n",
    "melhor_layer_size=None\n",
    "melhor_r2=float(\"-inf\")\n",
    "y_pred = []\n",
    "\n",
    "for a in activation_arr:\n",
    "    for l in layer_size_arr:\n",
    "\n",
    "            regr = make_pipeline(StandardScaler(), MLPRegressor(\n",
    "                                random_state=42, \n",
    "                                hidden_layer_sizes=(l,l), \n",
    "                                activation=a))\n",
    "            \n",
    "            regr.fit(x_train, y_train)\n",
    "\n",
    "            y_pred = regr.predict(x_test)\n",
    "            #regr.score(x_test, y_test)\n",
    "\n",
    "            r2 = regression_metrics(y_test, y_pred)\n",
    "\n",
    "            if r2 > melhor_r2:\n",
    "                melhor_r2 = r2\n",
    "                melhor_activation = a\n",
    "                melhor_layer_size = (l,l)\n",
    "                print(melhor_r2, melhor_activation, melhor_layer_size)\n",
    "\n",
    "\n",
    "regr = make_pipeline(StandardScaler(), MLPRegressor(\n",
    "                                random_state=42, \n",
    "                                hidden_layer_sizes=melhor_layer_size, \n",
    "                                activation=melhor_activation))\n",
    "regr.fit(x_train, y_train)\n",
    "y_pred = regr.predict(x_test)\n",
    "r2 = regression_metrics(y_test, y_pred)\n",
    "\n",
    "plt.scatter(x_test, y_test, color=COLOR_DATA_TEST)\n",
    "plt.scatter(x_test, y_pred, color=COLOR_DATA_PRED)\n",
    "plt.show()\n",
    "\n",
    "regression_metrics(y_test, y_pred, verbose=True)"
   ]
  },
  {
   "cell_type": "markdown",
   "metadata": {},
   "source": [
    "## Prophet"
   ]
  },
  {
   "cell_type": "code",
   "execution_count": null,
   "metadata": {},
   "outputs": [],
   "source": [
    "import pandas as pd\n",
    "from fbprophet import Prophet\n",
    "\n",
    "m = Prophet()\n",
    "\n",
    "m.fit(pd.DataFrame(x_train,y_train))"
   ]
  },
  {
   "cell_type": "code",
   "execution_count": null,
   "metadata": {},
   "outputs": [],
   "source": [
    "import pystan\n",
    "model_code = 'parameters {real y;} model {y ~ normal(0,1);}'\n",
    "model = pystan.StanModel(model_code=model_code)  # this will take a minute\n",
    "y = model.sampling(n_jobs=1).extract()['y']\n",
    "y.mean()  # should be close to 0"
   ]
  }
 ],
 "metadata": {
  "kernelspec": {
   "display_name": "Python 3",
   "language": "python",
   "name": "python3"
  },
  "language_info": {
   "codemirror_mode": {
    "name": "ipython",
    "version": 3
   },
   "file_extension": ".py",
   "mimetype": "text/x-python",
   "name": "python",
   "nbconvert_exporter": "python",
   "pygments_lexer": "ipython3",
   "version": "3.7.6"
  }
 },
 "nbformat": 4,
 "nbformat_minor": 4
}
